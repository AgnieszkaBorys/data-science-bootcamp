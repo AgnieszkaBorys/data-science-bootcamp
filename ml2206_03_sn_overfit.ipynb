{
  "nbformat": 4,
  "nbformat_minor": 0,
  "metadata": {
    "colab": {
      "name": "ml2206_03_sn_overfit.ipynb",
      "provenance": [],
      "collapsed_sections": [],
      "authorship_tag": "ABX9TyMqYFh4FhZnNX6OOpBieDDp",
      "include_colab_link": true
    },
    "kernelspec": {
      "name": "python3",
      "display_name": "Python 3"
    }
  },
  "cells": [
    {
      "cell_type": "markdown",
      "metadata": {
        "id": "view-in-github",
        "colab_type": "text"
      },
      "source": [
        "<a href=\"https://colab.research.google.com/github/AgnieszkaBorys/data-science-bootcamp/blob/master/ml2206_03_sn_overfit.ipynb\" target=\"_parent\"><img src=\"https://colab.research.google.com/assets/colab-badge.svg\" alt=\"Open In Colab\"/></a>"
      ]
    },
    {
      "cell_type": "code",
      "metadata": {
        "id": "AUdzWvDprOcZ",
        "colab_type": "code",
        "colab": {}
      },
      "source": [
        "import pandas as pd"
      ],
      "execution_count": 1,
      "outputs": []
    },
    {
      "cell_type": "code",
      "metadata": {
        "id": "EreoKb9Brc2-",
        "colab_type": "code",
        "colab": {}
      },
      "source": [
        "# komponenty do budowania sieci\n",
        "from tensorflow.keras.models import Sequential\n",
        "from tensorflow.keras.layers import Dense, Flatten, Dropout \n",
        "\n",
        "from tensorflow.random import set_seed\n",
        "set_seed(0)"
      ],
      "execution_count": 2,
      "outputs": []
    },
    {
      "cell_type": "code",
      "metadata": {
        "id": "_GD8aG-xrUVU",
        "colab_type": "code",
        "colab": {
          "base_uri": "https://localhost:8080/",
          "height": 247
        },
        "outputId": "93b8b31b-8f50-4261-d219-684210e69213"
      },
      "source": [
        "df_train = pd.read_csv('http://hackingpython.pl/ML2206/Day04/train.csv')\n",
        "df_train.head()"
      ],
      "execution_count": 4,
      "outputs": [
        {
          "output_type": "execute_result",
          "data": {
            "text/html": [
              "<div>\n",
              "<style scoped>\n",
              "    .dataframe tbody tr th:only-of-type {\n",
              "        vertical-align: middle;\n",
              "    }\n",
              "\n",
              "    .dataframe tbody tr th {\n",
              "        vertical-align: top;\n",
              "    }\n",
              "\n",
              "    .dataframe thead th {\n",
              "        text-align: right;\n",
              "    }\n",
              "</style>\n",
              "<table border=\"1\" class=\"dataframe\">\n",
              "  <thead>\n",
              "    <tr style=\"text-align: right;\">\n",
              "      <th></th>\n",
              "      <th>id</th>\n",
              "      <th>target</th>\n",
              "      <th>0</th>\n",
              "      <th>1</th>\n",
              "      <th>2</th>\n",
              "      <th>3</th>\n",
              "      <th>4</th>\n",
              "      <th>5</th>\n",
              "      <th>6</th>\n",
              "      <th>7</th>\n",
              "      <th>8</th>\n",
              "      <th>9</th>\n",
              "      <th>10</th>\n",
              "      <th>11</th>\n",
              "      <th>12</th>\n",
              "      <th>13</th>\n",
              "      <th>14</th>\n",
              "      <th>15</th>\n",
              "      <th>16</th>\n",
              "      <th>17</th>\n",
              "      <th>18</th>\n",
              "      <th>19</th>\n",
              "      <th>20</th>\n",
              "      <th>21</th>\n",
              "      <th>22</th>\n",
              "      <th>23</th>\n",
              "      <th>24</th>\n",
              "      <th>25</th>\n",
              "      <th>26</th>\n",
              "      <th>27</th>\n",
              "      <th>28</th>\n",
              "      <th>29</th>\n",
              "      <th>30</th>\n",
              "      <th>31</th>\n",
              "      <th>32</th>\n",
              "      <th>33</th>\n",
              "      <th>34</th>\n",
              "      <th>35</th>\n",
              "      <th>36</th>\n",
              "      <th>37</th>\n",
              "      <th>...</th>\n",
              "      <th>260</th>\n",
              "      <th>261</th>\n",
              "      <th>262</th>\n",
              "      <th>263</th>\n",
              "      <th>264</th>\n",
              "      <th>265</th>\n",
              "      <th>266</th>\n",
              "      <th>267</th>\n",
              "      <th>268</th>\n",
              "      <th>269</th>\n",
              "      <th>270</th>\n",
              "      <th>271</th>\n",
              "      <th>272</th>\n",
              "      <th>273</th>\n",
              "      <th>274</th>\n",
              "      <th>275</th>\n",
              "      <th>276</th>\n",
              "      <th>277</th>\n",
              "      <th>278</th>\n",
              "      <th>279</th>\n",
              "      <th>280</th>\n",
              "      <th>281</th>\n",
              "      <th>282</th>\n",
              "      <th>283</th>\n",
              "      <th>284</th>\n",
              "      <th>285</th>\n",
              "      <th>286</th>\n",
              "      <th>287</th>\n",
              "      <th>288</th>\n",
              "      <th>289</th>\n",
              "      <th>290</th>\n",
              "      <th>291</th>\n",
              "      <th>292</th>\n",
              "      <th>293</th>\n",
              "      <th>294</th>\n",
              "      <th>295</th>\n",
              "      <th>296</th>\n",
              "      <th>297</th>\n",
              "      <th>298</th>\n",
              "      <th>299</th>\n",
              "    </tr>\n",
              "  </thead>\n",
              "  <tbody>\n",
              "    <tr>\n",
              "      <th>0</th>\n",
              "      <td>0</td>\n",
              "      <td>1.0</td>\n",
              "      <td>-1.067</td>\n",
              "      <td>-1.114</td>\n",
              "      <td>-0.616</td>\n",
              "      <td>0.376</td>\n",
              "      <td>1.090</td>\n",
              "      <td>0.467</td>\n",
              "      <td>-0.422</td>\n",
              "      <td>0.460</td>\n",
              "      <td>-0.443</td>\n",
              "      <td>-0.338</td>\n",
              "      <td>0.416</td>\n",
              "      <td>-2.177</td>\n",
              "      <td>-0.326</td>\n",
              "      <td>0.340</td>\n",
              "      <td>1.174</td>\n",
              "      <td>-0.245</td>\n",
              "      <td>-1.070</td>\n",
              "      <td>-0.336</td>\n",
              "      <td>-0.502</td>\n",
              "      <td>0.403</td>\n",
              "      <td>-0.605</td>\n",
              "      <td>-0.280</td>\n",
              "      <td>-1.618</td>\n",
              "      <td>0.878</td>\n",
              "      <td>-0.272</td>\n",
              "      <td>0.870</td>\n",
              "      <td>2.171</td>\n",
              "      <td>-0.214</td>\n",
              "      <td>0.477</td>\n",
              "      <td>-2.092</td>\n",
              "      <td>0.835</td>\n",
              "      <td>0.621</td>\n",
              "      <td>-2.810</td>\n",
              "      <td>1.029</td>\n",
              "      <td>-0.736</td>\n",
              "      <td>0.582</td>\n",
              "      <td>-0.079</td>\n",
              "      <td>0.493</td>\n",
              "      <td>...</td>\n",
              "      <td>0.055</td>\n",
              "      <td>1.107</td>\n",
              "      <td>-0.848</td>\n",
              "      <td>-1.781</td>\n",
              "      <td>0.254</td>\n",
              "      <td>-0.515</td>\n",
              "      <td>0.234</td>\n",
              "      <td>0.296</td>\n",
              "      <td>-1.774</td>\n",
              "      <td>2.032</td>\n",
              "      <td>-0.442</td>\n",
              "      <td>-0.116</td>\n",
              "      <td>1.393</td>\n",
              "      <td>-0.494</td>\n",
              "      <td>-0.179</td>\n",
              "      <td>1.874</td>\n",
              "      <td>1.463</td>\n",
              "      <td>-1.397</td>\n",
              "      <td>0.284</td>\n",
              "      <td>0.336</td>\n",
              "      <td>0.551</td>\n",
              "      <td>0.557</td>\n",
              "      <td>-0.522</td>\n",
              "      <td>-0.503</td>\n",
              "      <td>-0.541</td>\n",
              "      <td>1.393</td>\n",
              "      <td>0.506</td>\n",
              "      <td>-1.420</td>\n",
              "      <td>-0.123</td>\n",
              "      <td>-1.833</td>\n",
              "      <td>0.220</td>\n",
              "      <td>-0.339</td>\n",
              "      <td>0.254</td>\n",
              "      <td>-0.179</td>\n",
              "      <td>0.352</td>\n",
              "      <td>0.125</td>\n",
              "      <td>0.347</td>\n",
              "      <td>0.436</td>\n",
              "      <td>0.958</td>\n",
              "      <td>-0.824</td>\n",
              "    </tr>\n",
              "    <tr>\n",
              "      <th>1</th>\n",
              "      <td>1</td>\n",
              "      <td>0.0</td>\n",
              "      <td>-0.831</td>\n",
              "      <td>0.271</td>\n",
              "      <td>1.716</td>\n",
              "      <td>1.096</td>\n",
              "      <td>1.731</td>\n",
              "      <td>-0.197</td>\n",
              "      <td>1.904</td>\n",
              "      <td>-0.265</td>\n",
              "      <td>0.557</td>\n",
              "      <td>1.202</td>\n",
              "      <td>0.542</td>\n",
              "      <td>0.424</td>\n",
              "      <td>-1.572</td>\n",
              "      <td>-0.968</td>\n",
              "      <td>-1.483</td>\n",
              "      <td>0.564</td>\n",
              "      <td>0.047</td>\n",
              "      <td>-0.324</td>\n",
              "      <td>-1.490</td>\n",
              "      <td>0.179</td>\n",
              "      <td>-0.524</td>\n",
              "      <td>0.250</td>\n",
              "      <td>2.462</td>\n",
              "      <td>0.029</td>\n",
              "      <td>-1.399</td>\n",
              "      <td>-2.370</td>\n",
              "      <td>-1.505</td>\n",
              "      <td>-1.294</td>\n",
              "      <td>0.106</td>\n",
              "      <td>-0.145</td>\n",
              "      <td>0.235</td>\n",
              "      <td>-1.045</td>\n",
              "      <td>1.335</td>\n",
              "      <td>1.254</td>\n",
              "      <td>-0.811</td>\n",
              "      <td>1.812</td>\n",
              "      <td>0.181</td>\n",
              "      <td>-0.020</td>\n",
              "      <td>...</td>\n",
              "      <td>0.627</td>\n",
              "      <td>-1.472</td>\n",
              "      <td>0.496</td>\n",
              "      <td>-0.052</td>\n",
              "      <td>0.322</td>\n",
              "      <td>-0.222</td>\n",
              "      <td>1.168</td>\n",
              "      <td>0.931</td>\n",
              "      <td>-0.203</td>\n",
              "      <td>0.321</td>\n",
              "      <td>0.761</td>\n",
              "      <td>1.752</td>\n",
              "      <td>0.181</td>\n",
              "      <td>-3.029</td>\n",
              "      <td>-0.578</td>\n",
              "      <td>-0.260</td>\n",
              "      <td>-0.425</td>\n",
              "      <td>-0.160</td>\n",
              "      <td>-0.497</td>\n",
              "      <td>-0.049</td>\n",
              "      <td>1.097</td>\n",
              "      <td>0.398</td>\n",
              "      <td>0.554</td>\n",
              "      <td>0.578</td>\n",
              "      <td>-0.544</td>\n",
              "      <td>0.441</td>\n",
              "      <td>-0.524</td>\n",
              "      <td>-1.474</td>\n",
              "      <td>-0.090</td>\n",
              "      <td>-0.607</td>\n",
              "      <td>-0.765</td>\n",
              "      <td>-0.735</td>\n",
              "      <td>-1.158</td>\n",
              "      <td>2.554</td>\n",
              "      <td>0.856</td>\n",
              "      <td>-1.506</td>\n",
              "      <td>0.462</td>\n",
              "      <td>-0.029</td>\n",
              "      <td>-1.932</td>\n",
              "      <td>-0.343</td>\n",
              "    </tr>\n",
              "    <tr>\n",
              "      <th>2</th>\n",
              "      <td>2</td>\n",
              "      <td>0.0</td>\n",
              "      <td>0.099</td>\n",
              "      <td>1.390</td>\n",
              "      <td>-0.732</td>\n",
              "      <td>-1.065</td>\n",
              "      <td>0.005</td>\n",
              "      <td>-0.081</td>\n",
              "      <td>-1.450</td>\n",
              "      <td>0.317</td>\n",
              "      <td>-0.624</td>\n",
              "      <td>-0.017</td>\n",
              "      <td>-0.665</td>\n",
              "      <td>1.905</td>\n",
              "      <td>0.376</td>\n",
              "      <td>-1.373</td>\n",
              "      <td>1.587</td>\n",
              "      <td>1.464</td>\n",
              "      <td>-1.550</td>\n",
              "      <td>-0.512</td>\n",
              "      <td>0.508</td>\n",
              "      <td>-0.094</td>\n",
              "      <td>-0.114</td>\n",
              "      <td>-0.425</td>\n",
              "      <td>0.104</td>\n",
              "      <td>0.643</td>\n",
              "      <td>-1.371</td>\n",
              "      <td>1.553</td>\n",
              "      <td>-0.062</td>\n",
              "      <td>-0.173</td>\n",
              "      <td>-0.465</td>\n",
              "      <td>-1.252</td>\n",
              "      <td>0.443</td>\n",
              "      <td>2.205</td>\n",
              "      <td>-1.266</td>\n",
              "      <td>-0.739</td>\n",
              "      <td>0.827</td>\n",
              "      <td>-1.306</td>\n",
              "      <td>0.274</td>\n",
              "      <td>-1.573</td>\n",
              "      <td>...</td>\n",
              "      <td>-1.610</td>\n",
              "      <td>-0.801</td>\n",
              "      <td>1.557</td>\n",
              "      <td>0.628</td>\n",
              "      <td>-0.072</td>\n",
              "      <td>-0.573</td>\n",
              "      <td>0.507</td>\n",
              "      <td>-1.229</td>\n",
              "      <td>0.313</td>\n",
              "      <td>1.446</td>\n",
              "      <td>-0.345</td>\n",
              "      <td>1.147</td>\n",
              "      <td>-0.623</td>\n",
              "      <td>-0.048</td>\n",
              "      <td>1.456</td>\n",
              "      <td>-0.932</td>\n",
              "      <td>0.666</td>\n",
              "      <td>0.451</td>\n",
              "      <td>0.671</td>\n",
              "      <td>-0.596</td>\n",
              "      <td>-0.135</td>\n",
              "      <td>0.966</td>\n",
              "      <td>-0.167</td>\n",
              "      <td>0.530</td>\n",
              "      <td>-1.493</td>\n",
              "      <td>-0.917</td>\n",
              "      <td>0.120</td>\n",
              "      <td>0.258</td>\n",
              "      <td>-0.405</td>\n",
              "      <td>-0.859</td>\n",
              "      <td>-1.311</td>\n",
              "      <td>0.799</td>\n",
              "      <td>-1.001</td>\n",
              "      <td>1.544</td>\n",
              "      <td>0.575</td>\n",
              "      <td>-0.309</td>\n",
              "      <td>-0.339</td>\n",
              "      <td>-0.148</td>\n",
              "      <td>-0.646</td>\n",
              "      <td>0.725</td>\n",
              "    </tr>\n",
              "    <tr>\n",
              "      <th>3</th>\n",
              "      <td>3</td>\n",
              "      <td>1.0</td>\n",
              "      <td>-0.989</td>\n",
              "      <td>-0.916</td>\n",
              "      <td>-1.343</td>\n",
              "      <td>0.145</td>\n",
              "      <td>0.543</td>\n",
              "      <td>0.636</td>\n",
              "      <td>1.127</td>\n",
              "      <td>0.189</td>\n",
              "      <td>-0.118</td>\n",
              "      <td>-0.638</td>\n",
              "      <td>0.760</td>\n",
              "      <td>-0.360</td>\n",
              "      <td>-2.048</td>\n",
              "      <td>-0.996</td>\n",
              "      <td>-0.361</td>\n",
              "      <td>0.962</td>\n",
              "      <td>0.021</td>\n",
              "      <td>0.595</td>\n",
              "      <td>-0.943</td>\n",
              "      <td>0.069</td>\n",
              "      <td>0.483</td>\n",
              "      <td>-0.063</td>\n",
              "      <td>-0.540</td>\n",
              "      <td>-0.551</td>\n",
              "      <td>-1.736</td>\n",
              "      <td>-2.014</td>\n",
              "      <td>0.636</td>\n",
              "      <td>-1.147</td>\n",
              "      <td>-0.767</td>\n",
              "      <td>-0.678</td>\n",
              "      <td>0.815</td>\n",
              "      <td>1.696</td>\n",
              "      <td>-0.436</td>\n",
              "      <td>-1.777</td>\n",
              "      <td>0.548</td>\n",
              "      <td>0.318</td>\n",
              "      <td>0.978</td>\n",
              "      <td>1.299</td>\n",
              "      <td>...</td>\n",
              "      <td>0.011</td>\n",
              "      <td>1.137</td>\n",
              "      <td>0.499</td>\n",
              "      <td>-0.262</td>\n",
              "      <td>-1.484</td>\n",
              "      <td>0.216</td>\n",
              "      <td>-2.536</td>\n",
              "      <td>0.191</td>\n",
              "      <td>-0.142</td>\n",
              "      <td>1.387</td>\n",
              "      <td>-1.617</td>\n",
              "      <td>-0.662</td>\n",
              "      <td>-2.288</td>\n",
              "      <td>-1.130</td>\n",
              "      <td>0.651</td>\n",
              "      <td>-0.363</td>\n",
              "      <td>0.686</td>\n",
              "      <td>-0.504</td>\n",
              "      <td>1.734</td>\n",
              "      <td>-0.606</td>\n",
              "      <td>0.514</td>\n",
              "      <td>-0.506</td>\n",
              "      <td>-1.294</td>\n",
              "      <td>0.382</td>\n",
              "      <td>-1.119</td>\n",
              "      <td>1.695</td>\n",
              "      <td>-0.775</td>\n",
              "      <td>-1.428</td>\n",
              "      <td>0.231</td>\n",
              "      <td>-0.780</td>\n",
              "      <td>-1.370</td>\n",
              "      <td>1.093</td>\n",
              "      <td>0.596</td>\n",
              "      <td>-0.589</td>\n",
              "      <td>-0.649</td>\n",
              "      <td>-0.163</td>\n",
              "      <td>-0.958</td>\n",
              "      <td>-1.081</td>\n",
              "      <td>0.805</td>\n",
              "      <td>3.401</td>\n",
              "    </tr>\n",
              "    <tr>\n",
              "      <th>4</th>\n",
              "      <td>4</td>\n",
              "      <td>0.0</td>\n",
              "      <td>0.811</td>\n",
              "      <td>-1.509</td>\n",
              "      <td>0.522</td>\n",
              "      <td>-0.360</td>\n",
              "      <td>-0.220</td>\n",
              "      <td>-0.959</td>\n",
              "      <td>0.334</td>\n",
              "      <td>-0.566</td>\n",
              "      <td>-0.656</td>\n",
              "      <td>-0.499</td>\n",
              "      <td>-0.653</td>\n",
              "      <td>-0.058</td>\n",
              "      <td>-0.046</td>\n",
              "      <td>0.654</td>\n",
              "      <td>-0.697</td>\n",
              "      <td>-1.175</td>\n",
              "      <td>0.720</td>\n",
              "      <td>0.484</td>\n",
              "      <td>0.402</td>\n",
              "      <td>-1.037</td>\n",
              "      <td>1.081</td>\n",
              "      <td>0.716</td>\n",
              "      <td>-0.144</td>\n",
              "      <td>1.720</td>\n",
              "      <td>-1.980</td>\n",
              "      <td>-0.741</td>\n",
              "      <td>-1.493</td>\n",
              "      <td>-0.860</td>\n",
              "      <td>-0.082</td>\n",
              "      <td>0.133</td>\n",
              "      <td>1.084</td>\n",
              "      <td>-0.719</td>\n",
              "      <td>0.198</td>\n",
              "      <td>1.144</td>\n",
              "      <td>1.123</td>\n",
              "      <td>0.435</td>\n",
              "      <td>-0.296</td>\n",
              "      <td>-2.933</td>\n",
              "      <td>...</td>\n",
              "      <td>0.285</td>\n",
              "      <td>-0.464</td>\n",
              "      <td>1.427</td>\n",
              "      <td>0.554</td>\n",
              "      <td>-0.131</td>\n",
              "      <td>-1.425</td>\n",
              "      <td>0.487</td>\n",
              "      <td>0.413</td>\n",
              "      <td>-0.231</td>\n",
              "      <td>1.570</td>\n",
              "      <td>-0.714</td>\n",
              "      <td>0.385</td>\n",
              "      <td>-0.072</td>\n",
              "      <td>0.150</td>\n",
              "      <td>-0.228</td>\n",
              "      <td>0.144</td>\n",
              "      <td>-1.537</td>\n",
              "      <td>0.664</td>\n",
              "      <td>-0.133</td>\n",
              "      <td>0.424</td>\n",
              "      <td>0.926</td>\n",
              "      <td>-0.089</td>\n",
              "      <td>-0.415</td>\n",
              "      <td>0.299</td>\n",
              "      <td>-1.227</td>\n",
              "      <td>-2.578</td>\n",
              "      <td>0.600</td>\n",
              "      <td>2.167</td>\n",
              "      <td>-0.755</td>\n",
              "      <td>-1.265</td>\n",
              "      <td>-0.178</td>\n",
              "      <td>0.718</td>\n",
              "      <td>-1.017</td>\n",
              "      <td>1.249</td>\n",
              "      <td>-0.596</td>\n",
              "      <td>-0.445</td>\n",
              "      <td>1.751</td>\n",
              "      <td>1.442</td>\n",
              "      <td>-0.393</td>\n",
              "      <td>-0.643</td>\n",
              "    </tr>\n",
              "  </tbody>\n",
              "</table>\n",
              "<p>5 rows × 302 columns</p>\n",
              "</div>"
            ],
            "text/plain": [
              "   id  target      0      1      2  ...    295    296    297    298    299\n",
              "0   0     1.0 -1.067 -1.114 -0.616  ...  0.125  0.347  0.436  0.958 -0.824\n",
              "1   1     0.0 -0.831  0.271  1.716  ... -1.506  0.462 -0.029 -1.932 -0.343\n",
              "2   2     0.0  0.099  1.390 -0.732  ... -0.309 -0.339 -0.148 -0.646  0.725\n",
              "3   3     1.0 -0.989 -0.916 -1.343  ... -0.163 -0.958 -1.081  0.805  3.401\n",
              "4   4     0.0  0.811 -1.509  0.522  ... -0.445  1.751  1.442 -0.393 -0.643\n",
              "\n",
              "[5 rows x 302 columns]"
            ]
          },
          "metadata": {
            "tags": []
          },
          "execution_count": 4
        }
      ]
    },
    {
      "cell_type": "code",
      "metadata": {
        "id": "PQkQMlqrrp4p",
        "colab_type": "code",
        "colab": {
          "base_uri": "https://localhost:8080/",
          "height": 35
        },
        "outputId": "8cf8e7cc-44a1-4766-c0aa-b82f64b7131f"
      },
      "source": [
        "df_train.shape"
      ],
      "execution_count": 5,
      "outputs": [
        {
          "output_type": "execute_result",
          "data": {
            "text/plain": [
              "(250, 302)"
            ]
          },
          "metadata": {
            "tags": []
          },
          "execution_count": 5
        }
      ]
    },
    {
      "cell_type": "code",
      "metadata": {
        "id": "UQISz6AUrvw8",
        "colab_type": "code",
        "colab": {}
      },
      "source": [
        "X = df_train.iloc[:, 2:]\n",
        "y = df_train.target.astype('int')"
      ],
      "execution_count": 7,
      "outputs": []
    },
    {
      "cell_type": "code",
      "metadata": {
        "id": "VC9X8TE8sL90",
        "colab_type": "code",
        "colab": {}
      },
      "source": [
        "from sklearn.model_selection import train_test_split"
      ],
      "execution_count": 8,
      "outputs": []
    },
    {
      "cell_type": "code",
      "metadata": {
        "id": "kH1hm-_psShQ",
        "colab_type": "code",
        "colab": {}
      },
      "source": [
        "X_train, X_test, y_train, y_test = train_test_split(X, y, test_size=0.2, random_state=0)"
      ],
      "execution_count": 9,
      "outputs": []
    },
    {
      "cell_type": "code",
      "metadata": {
        "id": "ZFdctMZisfEs",
        "colab_type": "code",
        "colab": {}
      },
      "source": [
        "# tworzenie sieci\n",
        "model = Sequential()\n",
        "model.add( Dense(300, activation='relu', input_dim=300 ) )   #pierwszy arg to liczba neuronów w warstwie, nie musi być takie samo jak liczba cech, input_dim - ile cech ma zmienna wejściowa X\n",
        "model.add( Dense(128, activation='relu') )\n",
        "model.add( Dense(64, activation='relu') )\n",
        "model.add( Dense(1, activation='sigmoid'))  #warstwa wyjsciowa, tutaj podajemy 1, bo zmienna y jest binarna wystarczy 1 aby zdefiniiwać wynik\n",
        "\n",
        "model.compile(loss='binary_crossentropy', optimizer='adam', metrics=['accuracy'] )  #typowe wartości dla problemu kategoryzacji (tutaj 10 wartośi zm y bo cyfry)\n",
        "\n",
        "result = model.fit(X_train, y_train, epochs=100, verbose=0, validation_data=(X_test, y_test), batch_size=32 )"
      ],
      "execution_count": 10,
      "outputs": []
    },
    {
      "cell_type": "code",
      "metadata": {
        "id": "7xQ5rfxGuTwg",
        "colab_type": "code",
        "colab": {
          "base_uri": "https://localhost:8080/",
          "height": 35
        },
        "outputId": "82029122-1827-4f1e-b049-2cb01ec63d07"
      },
      "source": [
        "result.history.keys()  #zmienna val to validacja modelu czyli wyniki policzone na dancyh testowych"
      ],
      "execution_count": 11,
      "outputs": [
        {
          "output_type": "execute_result",
          "data": {
            "text/plain": [
              "dict_keys(['loss', 'accuracy', 'val_loss', 'val_accuracy'])"
            ]
          },
          "metadata": {
            "tags": []
          },
          "execution_count": 11
        }
      ]
    },
    {
      "cell_type": "code",
      "metadata": {
        "id": "-IMLibN3urfA",
        "colab_type": "code",
        "colab": {}
      },
      "source": [
        "df = pd.DataFrame( result.history)"
      ],
      "execution_count": 12,
      "outputs": []
    },
    {
      "cell_type": "code",
      "metadata": {
        "id": "PGGxAOUbvCrP",
        "colab_type": "code",
        "colab": {
          "base_uri": "https://localhost:8080/",
          "height": 198
        },
        "outputId": "2944a1cb-5e2b-49f6-b89b-aee1ac1ac8fa"
      },
      "source": [
        "df.head()"
      ],
      "execution_count": 13,
      "outputs": [
        {
          "output_type": "execute_result",
          "data": {
            "text/html": [
              "<div>\n",
              "<style scoped>\n",
              "    .dataframe tbody tr th:only-of-type {\n",
              "        vertical-align: middle;\n",
              "    }\n",
              "\n",
              "    .dataframe tbody tr th {\n",
              "        vertical-align: top;\n",
              "    }\n",
              "\n",
              "    .dataframe thead th {\n",
              "        text-align: right;\n",
              "    }\n",
              "</style>\n",
              "<table border=\"1\" class=\"dataframe\">\n",
              "  <thead>\n",
              "    <tr style=\"text-align: right;\">\n",
              "      <th></th>\n",
              "      <th>loss</th>\n",
              "      <th>accuracy</th>\n",
              "      <th>val_loss</th>\n",
              "      <th>val_accuracy</th>\n",
              "    </tr>\n",
              "  </thead>\n",
              "  <tbody>\n",
              "    <tr>\n",
              "      <th>0</th>\n",
              "      <td>0.624789</td>\n",
              "      <td>0.680</td>\n",
              "      <td>0.544325</td>\n",
              "      <td>0.76</td>\n",
              "    </tr>\n",
              "    <tr>\n",
              "      <th>1</th>\n",
              "      <td>0.339985</td>\n",
              "      <td>0.860</td>\n",
              "      <td>0.540462</td>\n",
              "      <td>0.76</td>\n",
              "    </tr>\n",
              "    <tr>\n",
              "      <th>2</th>\n",
              "      <td>0.206550</td>\n",
              "      <td>0.975</td>\n",
              "      <td>0.563693</td>\n",
              "      <td>0.76</td>\n",
              "    </tr>\n",
              "    <tr>\n",
              "      <th>3</th>\n",
              "      <td>0.114900</td>\n",
              "      <td>0.995</td>\n",
              "      <td>0.602429</td>\n",
              "      <td>0.72</td>\n",
              "    </tr>\n",
              "    <tr>\n",
              "      <th>4</th>\n",
              "      <td>0.056349</td>\n",
              "      <td>1.000</td>\n",
              "      <td>0.654622</td>\n",
              "      <td>0.72</td>\n",
              "    </tr>\n",
              "  </tbody>\n",
              "</table>\n",
              "</div>"
            ],
            "text/plain": [
              "       loss  accuracy  val_loss  val_accuracy\n",
              "0  0.624789     0.680  0.544325          0.76\n",
              "1  0.339985     0.860  0.540462          0.76\n",
              "2  0.206550     0.975  0.563693          0.76\n",
              "3  0.114900     0.995  0.602429          0.72\n",
              "4  0.056349     1.000  0.654622          0.72"
            ]
          },
          "metadata": {
            "tags": []
          },
          "execution_count": 13
        }
      ]
    },
    {
      "cell_type": "code",
      "metadata": {
        "id": "1C07PvGmvE7H",
        "colab_type": "code",
        "colab": {
          "base_uri": "https://localhost:8080/",
          "height": 283
        },
        "outputId": "a11c0512-edfd-46c6-e8d5-4f6d366f2215"
      },
      "source": [
        "df[['accuracy', 'val_accuracy']].plot()"
      ],
      "execution_count": 14,
      "outputs": [
        {
          "output_type": "execute_result",
          "data": {
            "text/plain": [
              "<matplotlib.axes._subplots.AxesSubplot at 0x7f8468272518>"
            ]
          },
          "metadata": {
            "tags": []
          },
          "execution_count": 14
        },
        {
          "output_type": "display_data",
          "data": {
            "image/png": "[encoded data removed]",
            "text/plain": [
              "<Figure size 432x288 with 1 Axes>"
            ]
          },
          "metadata": {
            "tags": [],
            "needs_background": "light"
          }
        }
      ]
    },
    {
      "cell_type": "markdown",
      "metadata": {
        "id": "dgfqXCbqv5AB",
        "colab_type": "text"
      },
      "source": [
        "Wniosek: model swietnie liczy dla danych trningowych ale nie bardzo dla testowych. To nie jest dobre - ma działąć na danych rzeczywistych. Wykresy powinny być zbliżone."
      ]
    },
    {
      "cell_type": "markdown",
      "metadata": {
        "id": "WiqjfxS5vywl",
        "colab_type": "text"
      },
      "source": [
        "# Modyfikacja ilości neuronów i warstw"
      ]
    },
    {
      "cell_type": "code",
      "metadata": {
        "id": "Sgsm5vvgyS-c",
        "colab_type": "code",
        "colab": {}
      },
      "source": [
        "import tensorflow as tf"
      ],
      "execution_count": 22,
      "outputs": []
    },
    {
      "cell_type": "code",
      "metadata": {
        "id": "X_ZTTmsEv2pz",
        "colab_type": "code",
        "colab": {}
      },
      "source": [
        "# tworzenie sieci\n",
        "model = Sequential()\n",
        "model.add( Dense(16, activation='relu', input_dim=300 ) )   #pierwszy arg to liczba neuronów w warstwie, nie musi być takie samo jak liczba cech, input_dim - ile cech ma zmienna wejściowa X\n",
        "model.add( Dropout(0.4) )  #usuwa 40% neuronów wybranych losowo \n",
        "\n",
        "model.add( Dense(8, activation='relu') )\n",
        "model.add( Dropout(0.2) )\n",
        "\n",
        "model.add( Dense(1, activation='sigmoid'))  #warstwa wyjsciowa, tutaj podajemy 1, bo zmienna y jest binarna wystarczy 1 aby zdefiniiwać wynik\n",
        "\n",
        "model.compile(loss='binary_crossentropy', optimizer='adam', metrics=['accuracy'] )  #typowe wartości dla problemu kategoryzacji (tutaj 10 wartośi zm y bo cyfry)\n",
        "\n",
        "# wrzucamy funkcję ktora zatrzymuje nam wykonanie kolejnej epoki, trigerem jest 'val_loss', patience=3 oznacza ze nie zmienila sie ta wartosc przez 3 epoki. TO zapobiega przeuczeniu sieci \n",
        "es_callback = tf.keras.callbacks.EarlyStopping(monitor='val_loss', patience=3)  \n",
        "result = model.fit(X_train, y_train, epochs=300, verbose=0, validation_data=(X_test, y_test), batch_size=32, callbacks=[es_callback] )"
      ],
      "execution_count": 25,
      "outputs": []
    },
    {
      "cell_type": "code",
      "metadata": {
        "id": "LSh7Xu6qwsjS",
        "colab_type": "code",
        "colab": {
          "base_uri": "https://localhost:8080/",
          "height": 283
        },
        "outputId": "9679783f-47f3-442f-9699-1b677b4ce6f1"
      },
      "source": [
        "df = pd.DataFrame( result.history)\n",
        "df[['accuracy', 'val_accuracy']].plot()"
      ],
      "execution_count": 26,
      "outputs": [
        {
          "output_type": "execute_result",
          "data": {
            "text/plain": [
              "<matplotlib.axes._subplots.AxesSubplot at 0x7f846bc28828>"
            ]
          },
          "metadata": {
            "tags": []
          },
          "execution_count": 26
        },
        {
          "output_type": "display_data",
          "data": {
            "image/png": "[encoded data removed]",
            "text/plain": [
              "<Figure size 432x288 with 1 Axes>"
            ]
          },
          "metadata": {
            "tags": [],
            "needs_background": "light"
          }
        }
      ]
    },
    {
      "cell_type": "markdown",
      "metadata": {
        "id": "BA628B3uz4MV",
        "colab_type": "text"
      },
      "source": [
        "# Wybór najlepszych cech"
      ]
    },
    {
      "cell_type": "code",
      "metadata": {
        "id": "Z01_oiVWw269",
        "colab_type": "code",
        "colab": {}
      },
      "source": [
        "from sklearn.feature_selection import SelectKBest, f_classif"
      ],
      "execution_count": 27,
      "outputs": []
    },
    {
      "cell_type": "code",
      "metadata": {
        "id": "1MSWQtxFw4K5",
        "colab_type": "code",
        "colab": {
          "base_uri": "https://localhost:8080/",
          "height": 35
        },
        "outputId": "05faabdf-d857-4edf-cd8d-b97ca39c5491"
      },
      "source": [
        "selected = SelectKBest(f_classif, k = 10)  #redukcja do k najlepszych wymiarów\n",
        "selected_features = selected.fit_transform(X, y)\n",
        "selected_features.shape"
      ],
      "execution_count": 29,
      "outputs": [
        {
          "output_type": "execute_result",
          "data": {
            "text/plain": [
              "(250, 10)"
            ]
          },
          "metadata": {
            "tags": []
          },
          "execution_count": 29
        }
      ]
    },
    {
      "cell_type": "code",
      "metadata": {
        "id": "4WVVzdbe0icx",
        "colab_type": "code",
        "colab": {
          "base_uri": "https://localhost:8080/",
          "height": 283
        },
        "outputId": "8a173804-4dbe-4681-da39-3384903975b5"
      },
      "source": [
        "# uwaga tutaj kolumny mają numery, gdy mają nazwy trzeba dodać indeksację\n",
        "pd.Series(selected.scores_).plot()"
      ],
      "execution_count": 33,
      "outputs": [
        {
          "output_type": "execute_result",
          "data": {
            "text/plain": [
              "<matplotlib.axes._subplots.AxesSubplot at 0x7f846b92e898>"
            ]
          },
          "metadata": {
            "tags": []
          },
          "execution_count": 33
        },
        {
          "output_type": "display_data",
          "data": {
            "image/png": "[encoded data removed]",
            "text/plain": [
              "<Figure size 432x288 with 1 Axes>"
            ]
          },
          "metadata": {
            "tags": [],
            "needs_background": "light"
          }
        }
      ]
    },
    {
      "cell_type": "code",
      "metadata": {
        "id": "75_5ssAq0vFc",
        "colab_type": "code",
        "colab": {}
      },
      "source": [
        "# tworzenie sieci\n",
        "model = Sequential()\n",
        "model.add( Dense(16, activation='relu', input_dim=selected_features.shape[1] ) )   # input_dim - odwoluje się do liczby kol w zestawie wybranych kolumn\n",
        "model.add( Dropout(0.4) )  #usuwa 40% neuronów wybranych losowo \n",
        "\n",
        "model.add( Dense(8, activation='relu') )\n",
        "model.add( Dropout(0.2) )\n",
        "\n",
        "model.add( Dense(1, activation='sigmoid'))  #warstwa wyjsciowa, tutaj podajemy 1, bo zmienna y jest binarna wystarczy 1 aby zdefiniiwać wynik\n",
        "\n",
        "model.compile(loss='binary_crossentropy', optimizer='adam', metrics=['accuracy'] )  #typowe wartości dla problemu kategoryzacji (tutaj 10 wartośi zm y bo cyfry)\n",
        "\n",
        "# wrzucamy funkcję ktora zatrzymuje nam wykonanie kolejnej epoki, trigerem jest 'val_loss', patience=3 oznacza ze nie zmienila sie ta wartosc przez 3 epoki. TO zapobiega przeuczeniu sieci \n",
        "es_callback = tf.keras.callbacks.EarlyStopping(monitor='val_loss', patience=3)  \n",
        "\n",
        "#uwaga: tutaj podajemy cały zestaw danych i robimy splikn atrain test  bezpośrednio w metodzie (bez train test split),  \n",
        "result = model.fit(selected_features, y, epochs=300, verbose=0, validation_split=0.2, batch_size=32, callbacks=[es_callback] )"
      ],
      "execution_count": 34,
      "outputs": []
    },
    {
      "cell_type": "code",
      "metadata": {
        "id": "kzPAff702ZrV",
        "colab_type": "code",
        "colab": {
          "base_uri": "https://localhost:8080/",
          "height": 283
        },
        "outputId": "4c7648c3-8285-4b74-99b6-d385508bdf51"
      },
      "source": [
        "df = pd.DataFrame( result.history)\n",
        "df[['accuracy', 'val_accuracy']].plot()"
      ],
      "execution_count": 35,
      "outputs": [
        {
          "output_type": "execute_result",
          "data": {
            "text/plain": [
              "<matplotlib.axes._subplots.AxesSubplot at 0x7f846b9ed080>"
            ]
          },
          "metadata": {
            "tags": []
          },
          "execution_count": 35
        },
        {
          "output_type": "display_data",
          "data": {
            "image/png": "[encoded data removed]",
            "text/plain": [
              "<Figure size 432x288 with 1 Axes>"
            ]
          },
          "metadata": {
            "tags": [],
            "needs_background": "light"
          }
        }
      ]
    },
    {
      "cell_type": "markdown",
      "metadata": {
        "id": "lF03JRef2iKB",
        "colab_type": "text"
      },
      "source": [
        "Wniosek: po selekcji zmiennych wyszedł idealny wykres, czyli train i test accuracy są wysokie i nie odbiegają istotnie od siebie"
      ]
    },
    {
      "cell_type": "code",
      "metadata": {
        "id": "vPjj-3qA2dXg",
        "colab_type": "code",
        "colab": {}
      },
      "source": [
        ""
      ],
      "execution_count": null,
      "outputs": []
    }
  ]
}