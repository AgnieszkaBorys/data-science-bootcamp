{
  "nbformat": 4,
  "nbformat_minor": 0,
  "metadata": {
    "colab": {
      "name": "02_dane_gieldowe.ipynb",
      "provenance": [],
      "collapsed_sections": [],
      "authorship_tag": "ABX9TyOnnlG0OnvoQ67amqYxrRV8",
      "include_colab_link": true
    },
    "kernelspec": {
      "name": "python3",
      "display_name": "Python 3"
    }
  },
  "cells": [
    {
      "cell_type": "markdown",
      "metadata": {
        "id": "view-in-github",
        "colab_type": "text"
      },
      "source": [
        "<a href=\"https://colab.research.google.com/github/AgnieszkaBorys/data-science-bootcamp/blob/master/02_analiza_danych/02_dane_gieldowe.ipynb\" target=\"_parent\"><img src=\"https://colab.research.google.com/assets/colab-badge.svg\" alt=\"Open In Colab\"/></a>"
      ]
    },
    {
      "cell_type": "markdown",
      "metadata": {
        "id": "H-RbmMgFISXa",
        "colab_type": "text"
      },
      "source": [
        "CASE STUDY - DANE GIEŁDOWE\n"
      ]
    },
    {
      "cell_type": "markdown",
      "metadata": {
        "id": "DN7yXdYkIfYC",
        "colab_type": "text"
      },
      "source": [
        "IMPORT BIBLIOTEK"
      ]
    },
    {
      "cell_type": "code",
      "metadata": {
        "id": "ooYoNhGuDARG",
        "colab_type": "code",
        "colab": {
          "base_uri": "https://localhost:8080/",
          "height": 51
        },
        "outputId": "3850a494-8677-4288-9fff-610253369845"
      },
      "source": [
        "import numpy as np\n",
        "import pandas as pd\n",
        "\n",
        "print(f'Numpy: {np.__version__}')\n",
        "print(f'Pandas: {pd.__version__}')"
      ],
      "execution_count": 2,
      "outputs": [
        {
          "output_type": "stream",
          "text": [
            "Numpy: 1.18.4\n",
            "Pandas: 1.0.3\n"
          ],
          "name": "stdout"
        }
      ]
    },
    {
      "cell_type": "markdown",
      "metadata": {
        "id": "AMeRM2tMIiFS",
        "colab_type": "text"
      },
      "source": [
        "ZAŁADOWANIE DANYCH"
      ]
    },
    {
      "cell_type": "code",
      "metadata": {
        "id": "wAJnsF1yFN2E",
        "colab_type": "code",
        "colab": {
          "base_uri": "https://localhost:8080/",
          "height": 255
        },
        "outputId": "baf9cc29-cc91-4266-8544-39f06cfceb97"
      },
      "source": [
        "def fetch_financial_data(company='AMZN'):\n",
        "  \"\"\"Pobiera dane dotyczące notowań spółek na giełdzie według symboli na serwisie stooq.pl\"\"\"\n",
        "  import pandas_datareader.data as web\n",
        "  return web.DataReader(name=company, data_source='stooq')\n",
        "\n",
        "df = fetch_financial_data()\n",
        "df.info()"
      ],
      "execution_count": 8,
      "outputs": [
        {
          "output_type": "stream",
          "text": [
            "/usr/local/lib/python3.6/dist-packages/pandas_datareader/compat/__init__.py:7: FutureWarning: pandas.util.testing is deprecated. Use the functions in the public API at pandas.testing instead.\n",
            "  from pandas.util.testing import assert_frame_equal\n"
          ],
          "name": "stderr"
        },
        {
          "output_type": "stream",
          "text": [
            "<class 'pandas.core.frame.DataFrame'>\n",
            "DatetimeIndex: 1258 entries, 2020-05-07 to 2015-05-11\n",
            "Data columns (total 5 columns):\n",
            " #   Column  Non-Null Count  Dtype  \n",
            "---  ------  --------------  -----  \n",
            " 0   Open    1258 non-null   float64\n",
            " 1   High    1258 non-null   float64\n",
            " 2   Low     1258 non-null   float64\n",
            " 3   Close   1258 non-null   float64\n",
            " 4   Volume  1258 non-null   int64  \n",
            "dtypes: float64(4), int64(1)\n",
            "memory usage: 59.0 KB\n"
          ],
          "name": "stdout"
        }
      ]
    },
    {
      "cell_type": "markdown",
      "metadata": {
        "id": "QG6D6Yh3ImFE",
        "colab_type": "text"
      },
      "source": [
        "EKSPLORACJA DANYCH"
      ]
    },
    {
      "cell_type": "code",
      "metadata": {
        "id": "boWRgThvF-Y-",
        "colab_type": "code",
        "colab": {
          "base_uri": "https://localhost:8080/",
          "height": 450
        },
        "outputId": "7b778a53-1175-4abe-f9b5-1980adf603ee"
      },
      "source": [
        "df"
      ],
      "execution_count": 9,
      "outputs": [
        {
          "output_type": "execute_result",
          "data": {
            "text/html": [
              "<div>\n",
              "<style scoped>\n",
              "    .dataframe tbody tr th:only-of-type {\n",
              "        vertical-align: middle;\n",
              "    }\n",
              "\n",
              "    .dataframe tbody tr th {\n",
              "        vertical-align: top;\n",
              "    }\n",
              "\n",
              "    .dataframe thead th {\n",
              "        text-align: right;\n",
              "    }\n",
              "</style>\n",
              "<table border=\"1\" class=\"dataframe\">\n",
              "  <thead>\n",
              "    <tr style=\"text-align: right;\">\n",
              "      <th></th>\n",
              "      <th>Open</th>\n",
              "      <th>High</th>\n",
              "      <th>Low</th>\n",
              "      <th>Close</th>\n",
              "      <th>Volume</th>\n",
              "    </tr>\n",
              "    <tr>\n",
              "      <th>Date</th>\n",
              "      <th></th>\n",
              "      <th></th>\n",
              "      <th></th>\n",
              "      <th></th>\n",
              "      <th></th>\n",
              "    </tr>\n",
              "  </thead>\n",
              "  <tbody>\n",
              "    <tr>\n",
              "      <th>2020-05-07</th>\n",
              "      <td>2374.78</td>\n",
              "      <td>2376.00</td>\n",
              "      <td>2343.1100</td>\n",
              "      <td>2367.61</td>\n",
              "      <td>3396411</td>\n",
              "    </tr>\n",
              "    <tr>\n",
              "      <th>2020-05-06</th>\n",
              "      <td>2329.44</td>\n",
              "      <td>2357.45</td>\n",
              "      <td>2320.0000</td>\n",
              "      <td>2351.26</td>\n",
              "      <td>3117814</td>\n",
              "    </tr>\n",
              "    <tr>\n",
              "      <th>2020-05-05</th>\n",
              "      <td>2340.00</td>\n",
              "      <td>2351.00</td>\n",
              "      <td>2307.1251</td>\n",
              "      <td>2317.80</td>\n",
              "      <td>3242496</td>\n",
              "    </tr>\n",
              "    <tr>\n",
              "      <th>2020-05-04</th>\n",
              "      <td>2256.38</td>\n",
              "      <td>2326.98</td>\n",
              "      <td>2256.3800</td>\n",
              "      <td>2315.99</td>\n",
              "      <td>4865926</td>\n",
              "    </tr>\n",
              "    <tr>\n",
              "      <th>2020-05-01</th>\n",
              "      <td>2336.80</td>\n",
              "      <td>2362.44</td>\n",
              "      <td>2258.1901</td>\n",
              "      <td>2286.04</td>\n",
              "      <td>9772605</td>\n",
              "    </tr>\n",
              "    <tr>\n",
              "      <th>...</th>\n",
              "      <td>...</td>\n",
              "      <td>...</td>\n",
              "      <td>...</td>\n",
              "      <td>...</td>\n",
              "      <td>...</td>\n",
              "    </tr>\n",
              "    <tr>\n",
              "      <th>2015-05-15</th>\n",
              "      <td>428.00</td>\n",
              "      <td>430.40</td>\n",
              "      <td>424.3000</td>\n",
              "      <td>426.00</td>\n",
              "      <td>4240281</td>\n",
              "    </tr>\n",
              "    <tr>\n",
              "      <th>2015-05-14</th>\n",
              "      <td>429.45</td>\n",
              "      <td>433.00</td>\n",
              "      <td>427.0100</td>\n",
              "      <td>432.28</td>\n",
              "      <td>1888400</td>\n",
              "    </tr>\n",
              "    <tr>\n",
              "      <th>2015-05-13</th>\n",
              "      <td>429.58</td>\n",
              "      <td>433.53</td>\n",
              "      <td>425.8000</td>\n",
              "      <td>426.87</td>\n",
              "      <td>1996328</td>\n",
              "    </tr>\n",
              "    <tr>\n",
              "      <th>2015-05-12</th>\n",
              "      <td>431.08</td>\n",
              "      <td>433.25</td>\n",
              "      <td>426.7100</td>\n",
              "      <td>431.02</td>\n",
              "      <td>1947817</td>\n",
              "    </tr>\n",
              "    <tr>\n",
              "      <th>2015-05-11</th>\n",
              "      <td>432.52</td>\n",
              "      <td>439.00</td>\n",
              "      <td>431.3700</td>\n",
              "      <td>432.85</td>\n",
              "      <td>2393700</td>\n",
              "    </tr>\n",
              "  </tbody>\n",
              "</table>\n",
              "<p>1258 rows × 5 columns</p>\n",
              "</div>"
            ],
            "text/plain": [
              "               Open     High        Low    Close   Volume\n",
              "Date                                                     \n",
              "2020-05-07  2374.78  2376.00  2343.1100  2367.61  3396411\n",
              "2020-05-06  2329.44  2357.45  2320.0000  2351.26  3117814\n",
              "2020-05-05  2340.00  2351.00  2307.1251  2317.80  3242496\n",
              "2020-05-04  2256.38  2326.98  2256.3800  2315.99  4865926\n",
              "2020-05-01  2336.80  2362.44  2258.1901  2286.04  9772605\n",
              "...             ...      ...        ...      ...      ...\n",
              "2015-05-15   428.00   430.40   424.3000   426.00  4240281\n",
              "2015-05-14   429.45   433.00   427.0100   432.28  1888400\n",
              "2015-05-13   429.58   433.53   425.8000   426.87  1996328\n",
              "2015-05-12   431.08   433.25   426.7100   431.02  1947817\n",
              "2015-05-11   432.52   439.00   431.3700   432.85  2393700\n",
              "\n",
              "[1258 rows x 5 columns]"
            ]
          },
          "metadata": {
            "tags": []
          },
          "execution_count": 9
        }
      ]
    },
    {
      "cell_type": "code",
      "metadata": {
        "id": "tqWSVHykGh6F",
        "colab_type": "code",
        "colab": {
          "base_uri": "https://localhost:8080/",
          "height": 390
        },
        "outputId": "5ea93e6e-60db-4d1e-94e0-43959397d698"
      },
      "source": [
        "df.head(10)  #ostatnie 10 obiektów"
      ],
      "execution_count": 11,
      "outputs": [
        {
          "output_type": "execute_result",
          "data": {
            "text/html": [
              "<div>\n",
              "<style scoped>\n",
              "    .dataframe tbody tr th:only-of-type {\n",
              "        vertical-align: middle;\n",
              "    }\n",
              "\n",
              "    .dataframe tbody tr th {\n",
              "        vertical-align: top;\n",
              "    }\n",
              "\n",
              "    .dataframe thead th {\n",
              "        text-align: right;\n",
              "    }\n",
              "</style>\n",
              "<table border=\"1\" class=\"dataframe\">\n",
              "  <thead>\n",
              "    <tr style=\"text-align: right;\">\n",
              "      <th></th>\n",
              "      <th>Open</th>\n",
              "      <th>High</th>\n",
              "      <th>Low</th>\n",
              "      <th>Close</th>\n",
              "      <th>Volume</th>\n",
              "    </tr>\n",
              "    <tr>\n",
              "      <th>Date</th>\n",
              "      <th></th>\n",
              "      <th></th>\n",
              "      <th></th>\n",
              "      <th></th>\n",
              "      <th></th>\n",
              "    </tr>\n",
              "  </thead>\n",
              "  <tbody>\n",
              "    <tr>\n",
              "      <th>2020-05-07</th>\n",
              "      <td>2374.78</td>\n",
              "      <td>2376.0000</td>\n",
              "      <td>2343.1100</td>\n",
              "      <td>2367.61</td>\n",
              "      <td>3396411</td>\n",
              "    </tr>\n",
              "    <tr>\n",
              "      <th>2020-05-06</th>\n",
              "      <td>2329.44</td>\n",
              "      <td>2357.4500</td>\n",
              "      <td>2320.0000</td>\n",
              "      <td>2351.26</td>\n",
              "      <td>3117814</td>\n",
              "    </tr>\n",
              "    <tr>\n",
              "      <th>2020-05-05</th>\n",
              "      <td>2340.00</td>\n",
              "      <td>2351.0000</td>\n",
              "      <td>2307.1251</td>\n",
              "      <td>2317.80</td>\n",
              "      <td>3242496</td>\n",
              "    </tr>\n",
              "    <tr>\n",
              "      <th>2020-05-04</th>\n",
              "      <td>2256.38</td>\n",
              "      <td>2326.9800</td>\n",
              "      <td>2256.3800</td>\n",
              "      <td>2315.99</td>\n",
              "      <td>4865926</td>\n",
              "    </tr>\n",
              "    <tr>\n",
              "      <th>2020-05-01</th>\n",
              "      <td>2336.80</td>\n",
              "      <td>2362.4400</td>\n",
              "      <td>2258.1901</td>\n",
              "      <td>2286.04</td>\n",
              "      <td>9772605</td>\n",
              "    </tr>\n",
              "    <tr>\n",
              "      <th>2020-04-30</th>\n",
              "      <td>2419.84</td>\n",
              "      <td>2475.0000</td>\n",
              "      <td>2396.0100</td>\n",
              "      <td>2474.00</td>\n",
              "      <td>9534611</td>\n",
              "    </tr>\n",
              "    <tr>\n",
              "      <th>2020-04-29</th>\n",
              "      <td>2330.01</td>\n",
              "      <td>2391.8900</td>\n",
              "      <td>2310.0000</td>\n",
              "      <td>2372.71</td>\n",
              "      <td>4591593</td>\n",
              "    </tr>\n",
              "    <tr>\n",
              "      <th>2020-04-28</th>\n",
              "      <td>2372.10</td>\n",
              "      <td>2373.5000</td>\n",
              "      <td>2306.0000</td>\n",
              "      <td>2314.08</td>\n",
              "      <td>5269446</td>\n",
              "    </tr>\n",
              "    <tr>\n",
              "      <th>2020-04-27</th>\n",
              "      <td>2443.20</td>\n",
              "      <td>2444.8800</td>\n",
              "      <td>2363.0000</td>\n",
              "      <td>2376.00</td>\n",
              "      <td>5645645</td>\n",
              "    </tr>\n",
              "    <tr>\n",
              "      <th>2020-04-24</th>\n",
              "      <td>2417.00</td>\n",
              "      <td>2420.4332</td>\n",
              "      <td>2382.0000</td>\n",
              "      <td>2410.22</td>\n",
              "      <td>3831797</td>\n",
              "    </tr>\n",
              "  </tbody>\n",
              "</table>\n",
              "</div>"
            ],
            "text/plain": [
              "               Open       High        Low    Close   Volume\n",
              "Date                                                       \n",
              "2020-05-07  2374.78  2376.0000  2343.1100  2367.61  3396411\n",
              "2020-05-06  2329.44  2357.4500  2320.0000  2351.26  3117814\n",
              "2020-05-05  2340.00  2351.0000  2307.1251  2317.80  3242496\n",
              "2020-05-04  2256.38  2326.9800  2256.3800  2315.99  4865926\n",
              "2020-05-01  2336.80  2362.4400  2258.1901  2286.04  9772605\n",
              "2020-04-30  2419.84  2475.0000  2396.0100  2474.00  9534611\n",
              "2020-04-29  2330.01  2391.8900  2310.0000  2372.71  4591593\n",
              "2020-04-28  2372.10  2373.5000  2306.0000  2314.08  5269446\n",
              "2020-04-27  2443.20  2444.8800  2363.0000  2376.00  5645645\n",
              "2020-04-24  2417.00  2420.4332  2382.0000  2410.22  3831797"
            ]
          },
          "metadata": {
            "tags": []
          },
          "execution_count": 11
        }
      ]
    },
    {
      "cell_type": "code",
      "metadata": {
        "id": "GRw3d4NCHO1I",
        "colab_type": "code",
        "colab": {
          "base_uri": "https://localhost:8080/",
          "height": 390
        },
        "outputId": "89c2d8b1-de97-45e3-d036-38db3ee6591a"
      },
      "source": [
        "df.tail(10)"
      ],
      "execution_count": 12,
      "outputs": [
        {
          "output_type": "execute_result",
          "data": {
            "text/html": [
              "<div>\n",
              "<style scoped>\n",
              "    .dataframe tbody tr th:only-of-type {\n",
              "        vertical-align: middle;\n",
              "    }\n",
              "\n",
              "    .dataframe tbody tr th {\n",
              "        vertical-align: top;\n",
              "    }\n",
              "\n",
              "    .dataframe thead th {\n",
              "        text-align: right;\n",
              "    }\n",
              "</style>\n",
              "<table border=\"1\" class=\"dataframe\">\n",
              "  <thead>\n",
              "    <tr style=\"text-align: right;\">\n",
              "      <th></th>\n",
              "      <th>Open</th>\n",
              "      <th>High</th>\n",
              "      <th>Low</th>\n",
              "      <th>Close</th>\n",
              "      <th>Volume</th>\n",
              "    </tr>\n",
              "    <tr>\n",
              "      <th>Date</th>\n",
              "      <th></th>\n",
              "      <th></th>\n",
              "      <th></th>\n",
              "      <th></th>\n",
              "      <th></th>\n",
              "    </tr>\n",
              "  </thead>\n",
              "  <tbody>\n",
              "    <tr>\n",
              "      <th>2015-05-22</th>\n",
              "      <td>431.55</td>\n",
              "      <td>432.44</td>\n",
              "      <td>427.61</td>\n",
              "      <td>427.63</td>\n",
              "      <td>2020600</td>\n",
              "    </tr>\n",
              "    <tr>\n",
              "      <th>2015-05-21</th>\n",
              "      <td>428.00</td>\n",
              "      <td>436.90</td>\n",
              "      <td>428.00</td>\n",
              "      <td>431.63</td>\n",
              "      <td>4121400</td>\n",
              "    </tr>\n",
              "    <tr>\n",
              "      <th>2015-05-20</th>\n",
              "      <td>420.60</td>\n",
              "      <td>427.10</td>\n",
              "      <td>418.36</td>\n",
              "      <td>423.86</td>\n",
              "      <td>2196159</td>\n",
              "    </tr>\n",
              "    <tr>\n",
              "      <th>2015-05-19</th>\n",
              "      <td>424.94</td>\n",
              "      <td>428.24</td>\n",
              "      <td>420.63</td>\n",
              "      <td>421.71</td>\n",
              "      <td>2465240</td>\n",
              "    </tr>\n",
              "    <tr>\n",
              "      <th>2015-05-18</th>\n",
              "      <td>426.00</td>\n",
              "      <td>427.27</td>\n",
              "      <td>421.46</td>\n",
              "      <td>425.24</td>\n",
              "      <td>2389462</td>\n",
              "    </tr>\n",
              "    <tr>\n",
              "      <th>2015-05-15</th>\n",
              "      <td>428.00</td>\n",
              "      <td>430.40</td>\n",
              "      <td>424.30</td>\n",
              "      <td>426.00</td>\n",
              "      <td>4240281</td>\n",
              "    </tr>\n",
              "    <tr>\n",
              "      <th>2015-05-14</th>\n",
              "      <td>429.45</td>\n",
              "      <td>433.00</td>\n",
              "      <td>427.01</td>\n",
              "      <td>432.28</td>\n",
              "      <td>1888400</td>\n",
              "    </tr>\n",
              "    <tr>\n",
              "      <th>2015-05-13</th>\n",
              "      <td>429.58</td>\n",
              "      <td>433.53</td>\n",
              "      <td>425.80</td>\n",
              "      <td>426.87</td>\n",
              "      <td>1996328</td>\n",
              "    </tr>\n",
              "    <tr>\n",
              "      <th>2015-05-12</th>\n",
              "      <td>431.08</td>\n",
              "      <td>433.25</td>\n",
              "      <td>426.71</td>\n",
              "      <td>431.02</td>\n",
              "      <td>1947817</td>\n",
              "    </tr>\n",
              "    <tr>\n",
              "      <th>2015-05-11</th>\n",
              "      <td>432.52</td>\n",
              "      <td>439.00</td>\n",
              "      <td>431.37</td>\n",
              "      <td>432.85</td>\n",
              "      <td>2393700</td>\n",
              "    </tr>\n",
              "  </tbody>\n",
              "</table>\n",
              "</div>"
            ],
            "text/plain": [
              "              Open    High     Low   Close   Volume\n",
              "Date                                               \n",
              "2015-05-22  431.55  432.44  427.61  427.63  2020600\n",
              "2015-05-21  428.00  436.90  428.00  431.63  4121400\n",
              "2015-05-20  420.60  427.10  418.36  423.86  2196159\n",
              "2015-05-19  424.94  428.24  420.63  421.71  2465240\n",
              "2015-05-18  426.00  427.27  421.46  425.24  2389462\n",
              "2015-05-15  428.00  430.40  424.30  426.00  4240281\n",
              "2015-05-14  429.45  433.00  427.01  432.28  1888400\n",
              "2015-05-13  429.58  433.53  425.80  426.87  1996328\n",
              "2015-05-12  431.08  433.25  426.71  431.02  1947817\n",
              "2015-05-11  432.52  439.00  431.37  432.85  2393700"
            ]
          },
          "metadata": {
            "tags": []
          },
          "execution_count": 12
        }
      ]
    },
    {
      "cell_type": "code",
      "metadata": {
        "id": "4-oGRm_8HZrb",
        "colab_type": "code",
        "colab": {
          "base_uri": "https://localhost:8080/",
          "height": 34
        },
        "outputId": "61b9fa09-8cb9-4e1e-877a-39ba02cb91a5"
      },
      "source": [
        "df.columns"
      ],
      "execution_count": 13,
      "outputs": [
        {
          "output_type": "execute_result",
          "data": {
            "text/plain": [
              "Index(['Open', 'High', 'Low', 'Close', 'Volume'], dtype='object')"
            ]
          },
          "metadata": {
            "tags": []
          },
          "execution_count": 13
        }
      ]
    },
    {
      "cell_type": "code",
      "metadata": {
        "id": "4cveAcyzHdnE",
        "colab_type": "code",
        "colab": {}
      },
      "source": [
        "df.columns = [col.lower() for col in df.columns]"
      ],
      "execution_count": 0,
      "outputs": []
    },
    {
      "cell_type": "code",
      "metadata": {
        "id": "fRrAYk5zHtCi",
        "colab_type": "code",
        "colab": {
          "base_uri": "https://localhost:8080/",
          "height": 235
        },
        "outputId": "28b2ca1a-c629-4d22-ce29-fc4af1f24cae"
      },
      "source": [
        "df.head()"
      ],
      "execution_count": 15,
      "outputs": [
        {
          "output_type": "execute_result",
          "data": {
            "text/html": [
              "<div>\n",
              "<style scoped>\n",
              "    .dataframe tbody tr th:only-of-type {\n",
              "        vertical-align: middle;\n",
              "    }\n",
              "\n",
              "    .dataframe tbody tr th {\n",
              "        vertical-align: top;\n",
              "    }\n",
              "\n",
              "    .dataframe thead th {\n",
              "        text-align: right;\n",
              "    }\n",
              "</style>\n",
              "<table border=\"1\" class=\"dataframe\">\n",
              "  <thead>\n",
              "    <tr style=\"text-align: right;\">\n",
              "      <th></th>\n",
              "      <th>open</th>\n",
              "      <th>high</th>\n",
              "      <th>low</th>\n",
              "      <th>close</th>\n",
              "      <th>volume</th>\n",
              "    </tr>\n",
              "    <tr>\n",
              "      <th>Date</th>\n",
              "      <th></th>\n",
              "      <th></th>\n",
              "      <th></th>\n",
              "      <th></th>\n",
              "      <th></th>\n",
              "    </tr>\n",
              "  </thead>\n",
              "  <tbody>\n",
              "    <tr>\n",
              "      <th>2020-05-07</th>\n",
              "      <td>2374.78</td>\n",
              "      <td>2376.00</td>\n",
              "      <td>2343.1100</td>\n",
              "      <td>2367.61</td>\n",
              "      <td>3396411</td>\n",
              "    </tr>\n",
              "    <tr>\n",
              "      <th>2020-05-06</th>\n",
              "      <td>2329.44</td>\n",
              "      <td>2357.45</td>\n",
              "      <td>2320.0000</td>\n",
              "      <td>2351.26</td>\n",
              "      <td>3117814</td>\n",
              "    </tr>\n",
              "    <tr>\n",
              "      <th>2020-05-05</th>\n",
              "      <td>2340.00</td>\n",
              "      <td>2351.00</td>\n",
              "      <td>2307.1251</td>\n",
              "      <td>2317.80</td>\n",
              "      <td>3242496</td>\n",
              "    </tr>\n",
              "    <tr>\n",
              "      <th>2020-05-04</th>\n",
              "      <td>2256.38</td>\n",
              "      <td>2326.98</td>\n",
              "      <td>2256.3800</td>\n",
              "      <td>2315.99</td>\n",
              "      <td>4865926</td>\n",
              "    </tr>\n",
              "    <tr>\n",
              "      <th>2020-05-01</th>\n",
              "      <td>2336.80</td>\n",
              "      <td>2362.44</td>\n",
              "      <td>2258.1901</td>\n",
              "      <td>2286.04</td>\n",
              "      <td>9772605</td>\n",
              "    </tr>\n",
              "  </tbody>\n",
              "</table>\n",
              "</div>"
            ],
            "text/plain": [
              "               open     high        low    close   volume\n",
              "Date                                                     \n",
              "2020-05-07  2374.78  2376.00  2343.1100  2367.61  3396411\n",
              "2020-05-06  2329.44  2357.45  2320.0000  2351.26  3117814\n",
              "2020-05-05  2340.00  2351.00  2307.1251  2317.80  3242496\n",
              "2020-05-04  2256.38  2326.98  2256.3800  2315.99  4865926\n",
              "2020-05-01  2336.80  2362.44  2258.1901  2286.04  9772605"
            ]
          },
          "metadata": {
            "tags": []
          },
          "execution_count": 15
        }
      ]
    },
    {
      "cell_type": "code",
      "metadata": {
        "id": "YlPxm7w1HwgD",
        "colab_type": "code",
        "colab": {
          "base_uri": "https://localhost:8080/",
          "height": 297
        },
        "outputId": "6e42f671-1621-42a3-dbcb-810842fa6d91"
      },
      "source": [
        "df.describe()"
      ],
      "execution_count": 16,
      "outputs": [
        {
          "output_type": "execute_result",
          "data": {
            "text/html": [
              "<div>\n",
              "<style scoped>\n",
              "    .dataframe tbody tr th:only-of-type {\n",
              "        vertical-align: middle;\n",
              "    }\n",
              "\n",
              "    .dataframe tbody tr th {\n",
              "        vertical-align: top;\n",
              "    }\n",
              "\n",
              "    .dataframe thead th {\n",
              "        text-align: right;\n",
              "    }\n",
              "</style>\n",
              "<table border=\"1\" class=\"dataframe\">\n",
              "  <thead>\n",
              "    <tr style=\"text-align: right;\">\n",
              "      <th></th>\n",
              "      <th>open</th>\n",
              "      <th>high</th>\n",
              "      <th>low</th>\n",
              "      <th>close</th>\n",
              "      <th>volume</th>\n",
              "    </tr>\n",
              "  </thead>\n",
              "  <tbody>\n",
              "    <tr>\n",
              "      <th>count</th>\n",
              "      <td>1258.000000</td>\n",
              "      <td>1258.000000</td>\n",
              "      <td>1258.000000</td>\n",
              "      <td>1258.000000</td>\n",
              "      <td>1.258000e+03</td>\n",
              "    </tr>\n",
              "    <tr>\n",
              "      <th>mean</th>\n",
              "      <td>1231.363907</td>\n",
              "      <td>1243.325757</td>\n",
              "      <td>1217.802845</td>\n",
              "      <td>1231.251045</td>\n",
              "      <td>4.202311e+06</td>\n",
              "    </tr>\n",
              "    <tr>\n",
              "      <th>std</th>\n",
              "      <td>539.524643</td>\n",
              "      <td>545.630430</td>\n",
              "      <td>532.945503</td>\n",
              "      <td>539.591418</td>\n",
              "      <td>2.222173e+06</td>\n",
              "    </tr>\n",
              "    <tr>\n",
              "      <th>min</th>\n",
              "      <td>420.600000</td>\n",
              "      <td>426.800000</td>\n",
              "      <td>418.360000</td>\n",
              "      <td>421.710000</td>\n",
              "      <td>8.813370e+05</td>\n",
              "    </tr>\n",
              "    <tr>\n",
              "      <th>25%</th>\n",
              "      <td>752.732500</td>\n",
              "      <td>757.815000</td>\n",
              "      <td>744.397500</td>\n",
              "      <td>751.080000</td>\n",
              "      <td>2.714950e+06</td>\n",
              "    </tr>\n",
              "    <tr>\n",
              "      <th>50%</th>\n",
              "      <td>1109.075000</td>\n",
              "      <td>1124.100000</td>\n",
              "      <td>1104.945000</td>\n",
              "      <td>1116.130000</td>\n",
              "      <td>3.639696e+06</td>\n",
              "    </tr>\n",
              "    <tr>\n",
              "      <th>75%</th>\n",
              "      <td>1764.307500</td>\n",
              "      <td>1779.225000</td>\n",
              "      <td>1745.387500</td>\n",
              "      <td>1764.195000</td>\n",
              "      <td>4.953428e+06</td>\n",
              "    </tr>\n",
              "    <tr>\n",
              "      <th>max</th>\n",
              "      <td>2443.200000</td>\n",
              "      <td>2475.000000</td>\n",
              "      <td>2396.010000</td>\n",
              "      <td>2474.000000</td>\n",
              "      <td>2.190930e+07</td>\n",
              "    </tr>\n",
              "  </tbody>\n",
              "</table>\n",
              "</div>"
            ],
            "text/plain": [
              "              open         high          low        close        volume\n",
              "count  1258.000000  1258.000000  1258.000000  1258.000000  1.258000e+03\n",
              "mean   1231.363907  1243.325757  1217.802845  1231.251045  4.202311e+06\n",
              "std     539.524643   545.630430   532.945503   539.591418  2.222173e+06\n",
              "min     420.600000   426.800000   418.360000   421.710000  8.813370e+05\n",
              "25%     752.732500   757.815000   744.397500   751.080000  2.714950e+06\n",
              "50%    1109.075000  1124.100000  1104.945000  1116.130000  3.639696e+06\n",
              "75%    1764.307500  1779.225000  1745.387500  1764.195000  4.953428e+06\n",
              "max    2443.200000  2475.000000  2396.010000  2474.000000  2.190930e+07"
            ]
          },
          "metadata": {
            "tags": []
          },
          "execution_count": 16
        }
      ]
    },
    {
      "cell_type": "code",
      "metadata": {
        "id": "YumF8Vy0H5_a",
        "colab_type": "code",
        "colab": {
          "base_uri": "https://localhost:8080/",
          "height": 204
        },
        "outputId": "e9e4502c-b26d-4f1a-bf35-2d5af5df08ed"
      },
      "source": [
        "df.describe().T"
      ],
      "execution_count": 17,
      "outputs": [
        {
          "output_type": "execute_result",
          "data": {
            "text/html": [
              "<div>\n",
              "<style scoped>\n",
              "    .dataframe tbody tr th:only-of-type {\n",
              "        vertical-align: middle;\n",
              "    }\n",
              "\n",
              "    .dataframe tbody tr th {\n",
              "        vertical-align: top;\n",
              "    }\n",
              "\n",
              "    .dataframe thead th {\n",
              "        text-align: right;\n",
              "    }\n",
              "</style>\n",
              "<table border=\"1\" class=\"dataframe\">\n",
              "  <thead>\n",
              "    <tr style=\"text-align: right;\">\n",
              "      <th></th>\n",
              "      <th>count</th>\n",
              "      <th>mean</th>\n",
              "      <th>std</th>\n",
              "      <th>min</th>\n",
              "      <th>25%</th>\n",
              "      <th>50%</th>\n",
              "      <th>75%</th>\n",
              "      <th>max</th>\n",
              "    </tr>\n",
              "  </thead>\n",
              "  <tbody>\n",
              "    <tr>\n",
              "      <th>open</th>\n",
              "      <td>1258.0</td>\n",
              "      <td>1.231364e+03</td>\n",
              "      <td>5.395246e+02</td>\n",
              "      <td>420.60</td>\n",
              "      <td>7.527325e+02</td>\n",
              "      <td>1109.075</td>\n",
              "      <td>1.764307e+03</td>\n",
              "      <td>2443.20</td>\n",
              "    </tr>\n",
              "    <tr>\n",
              "      <th>high</th>\n",
              "      <td>1258.0</td>\n",
              "      <td>1.243326e+03</td>\n",
              "      <td>5.456304e+02</td>\n",
              "      <td>426.80</td>\n",
              "      <td>7.578150e+02</td>\n",
              "      <td>1124.100</td>\n",
              "      <td>1.779225e+03</td>\n",
              "      <td>2475.00</td>\n",
              "    </tr>\n",
              "    <tr>\n",
              "      <th>low</th>\n",
              "      <td>1258.0</td>\n",
              "      <td>1.217803e+03</td>\n",
              "      <td>5.329455e+02</td>\n",
              "      <td>418.36</td>\n",
              "      <td>7.443975e+02</td>\n",
              "      <td>1104.945</td>\n",
              "      <td>1.745387e+03</td>\n",
              "      <td>2396.01</td>\n",
              "    </tr>\n",
              "    <tr>\n",
              "      <th>close</th>\n",
              "      <td>1258.0</td>\n",
              "      <td>1.231251e+03</td>\n",
              "      <td>5.395914e+02</td>\n",
              "      <td>421.71</td>\n",
              "      <td>7.510800e+02</td>\n",
              "      <td>1116.130</td>\n",
              "      <td>1.764195e+03</td>\n",
              "      <td>2474.00</td>\n",
              "    </tr>\n",
              "    <tr>\n",
              "      <th>volume</th>\n",
              "      <td>1258.0</td>\n",
              "      <td>4.202311e+06</td>\n",
              "      <td>2.222173e+06</td>\n",
              "      <td>881337.00</td>\n",
              "      <td>2.714950e+06</td>\n",
              "      <td>3639696.500</td>\n",
              "      <td>4.953428e+06</td>\n",
              "      <td>21909300.00</td>\n",
              "    </tr>\n",
              "  </tbody>\n",
              "</table>\n",
              "</div>"
            ],
            "text/plain": [
              "         count          mean  ...           75%          max\n",
              "open    1258.0  1.231364e+03  ...  1.764307e+03      2443.20\n",
              "high    1258.0  1.243326e+03  ...  1.779225e+03      2475.00\n",
              "low     1258.0  1.217803e+03  ...  1.745387e+03      2396.01\n",
              "close   1258.0  1.231251e+03  ...  1.764195e+03      2474.00\n",
              "volume  1258.0  4.202311e+06  ...  4.953428e+06  21909300.00\n",
              "\n",
              "[5 rows x 8 columns]"
            ]
          },
          "metadata": {
            "tags": []
          },
          "execution_count": 17
        }
      ]
    },
    {
      "cell_type": "markdown",
      "metadata": {
        "id": "8LfxrhKhIrBY",
        "colab_type": "text"
      },
      "source": [
        "SELEKCJA KOLUMN"
      ]
    },
    {
      "cell_type": "code",
      "metadata": {
        "id": "ngkReF5FIDN4",
        "colab_type": "code",
        "colab": {
          "base_uri": "https://localhost:8080/",
          "height": 390
        },
        "outputId": "fee49c69-1f1f-4620-ca22-2c6112da0500"
      },
      "source": [
        "df = df.head(10)\n",
        "df"
      ],
      "execution_count": 19,
      "outputs": [
        {
          "output_type": "execute_result",
          "data": {
            "text/html": [
              "<div>\n",
              "<style scoped>\n",
              "    .dataframe tbody tr th:only-of-type {\n",
              "        vertical-align: middle;\n",
              "    }\n",
              "\n",
              "    .dataframe tbody tr th {\n",
              "        vertical-align: top;\n",
              "    }\n",
              "\n",
              "    .dataframe thead th {\n",
              "        text-align: right;\n",
              "    }\n",
              "</style>\n",
              "<table border=\"1\" class=\"dataframe\">\n",
              "  <thead>\n",
              "    <tr style=\"text-align: right;\">\n",
              "      <th></th>\n",
              "      <th>open</th>\n",
              "      <th>high</th>\n",
              "      <th>low</th>\n",
              "      <th>close</th>\n",
              "      <th>volume</th>\n",
              "    </tr>\n",
              "    <tr>\n",
              "      <th>Date</th>\n",
              "      <th></th>\n",
              "      <th></th>\n",
              "      <th></th>\n",
              "      <th></th>\n",
              "      <th></th>\n",
              "    </tr>\n",
              "  </thead>\n",
              "  <tbody>\n",
              "    <tr>\n",
              "      <th>2020-05-07</th>\n",
              "      <td>2374.78</td>\n",
              "      <td>2376.0000</td>\n",
              "      <td>2343.1100</td>\n",
              "      <td>2367.61</td>\n",
              "      <td>3396411</td>\n",
              "    </tr>\n",
              "    <tr>\n",
              "      <th>2020-05-06</th>\n",
              "      <td>2329.44</td>\n",
              "      <td>2357.4500</td>\n",
              "      <td>2320.0000</td>\n",
              "      <td>2351.26</td>\n",
              "      <td>3117814</td>\n",
              "    </tr>\n",
              "    <tr>\n",
              "      <th>2020-05-05</th>\n",
              "      <td>2340.00</td>\n",
              "      <td>2351.0000</td>\n",
              "      <td>2307.1251</td>\n",
              "      <td>2317.80</td>\n",
              "      <td>3242496</td>\n",
              "    </tr>\n",
              "    <tr>\n",
              "      <th>2020-05-04</th>\n",
              "      <td>2256.38</td>\n",
              "      <td>2326.9800</td>\n",
              "      <td>2256.3800</td>\n",
              "      <td>2315.99</td>\n",
              "      <td>4865926</td>\n",
              "    </tr>\n",
              "    <tr>\n",
              "      <th>2020-05-01</th>\n",
              "      <td>2336.80</td>\n",
              "      <td>2362.4400</td>\n",
              "      <td>2258.1901</td>\n",
              "      <td>2286.04</td>\n",
              "      <td>9772605</td>\n",
              "    </tr>\n",
              "    <tr>\n",
              "      <th>2020-04-30</th>\n",
              "      <td>2419.84</td>\n",
              "      <td>2475.0000</td>\n",
              "      <td>2396.0100</td>\n",
              "      <td>2474.00</td>\n",
              "      <td>9534611</td>\n",
              "    </tr>\n",
              "    <tr>\n",
              "      <th>2020-04-29</th>\n",
              "      <td>2330.01</td>\n",
              "      <td>2391.8900</td>\n",
              "      <td>2310.0000</td>\n",
              "      <td>2372.71</td>\n",
              "      <td>4591593</td>\n",
              "    </tr>\n",
              "    <tr>\n",
              "      <th>2020-04-28</th>\n",
              "      <td>2372.10</td>\n",
              "      <td>2373.5000</td>\n",
              "      <td>2306.0000</td>\n",
              "      <td>2314.08</td>\n",
              "      <td>5269446</td>\n",
              "    </tr>\n",
              "    <tr>\n",
              "      <th>2020-04-27</th>\n",
              "      <td>2443.20</td>\n",
              "      <td>2444.8800</td>\n",
              "      <td>2363.0000</td>\n",
              "      <td>2376.00</td>\n",
              "      <td>5645645</td>\n",
              "    </tr>\n",
              "    <tr>\n",
              "      <th>2020-04-24</th>\n",
              "      <td>2417.00</td>\n",
              "      <td>2420.4332</td>\n",
              "      <td>2382.0000</td>\n",
              "      <td>2410.22</td>\n",
              "      <td>3831797</td>\n",
              "    </tr>\n",
              "  </tbody>\n",
              "</table>\n",
              "</div>"
            ],
            "text/plain": [
              "               open       high        low    close   volume\n",
              "Date                                                       \n",
              "2020-05-07  2374.78  2376.0000  2343.1100  2367.61  3396411\n",
              "2020-05-06  2329.44  2357.4500  2320.0000  2351.26  3117814\n",
              "2020-05-05  2340.00  2351.0000  2307.1251  2317.80  3242496\n",
              "2020-05-04  2256.38  2326.9800  2256.3800  2315.99  4865926\n",
              "2020-05-01  2336.80  2362.4400  2258.1901  2286.04  9772605\n",
              "2020-04-30  2419.84  2475.0000  2396.0100  2474.00  9534611\n",
              "2020-04-29  2330.01  2391.8900  2310.0000  2372.71  4591593\n",
              "2020-04-28  2372.10  2373.5000  2306.0000  2314.08  5269446\n",
              "2020-04-27  2443.20  2444.8800  2363.0000  2376.00  5645645\n",
              "2020-04-24  2417.00  2420.4332  2382.0000  2410.22  3831797"
            ]
          },
          "metadata": {
            "tags": []
          },
          "execution_count": 19
        }
      ]
    },
    {
      "cell_type": "code",
      "metadata": {
        "id": "_0W6RrzaI6sw",
        "colab_type": "code",
        "colab": {
          "base_uri": "https://localhost:8080/",
          "height": 221
        },
        "outputId": "a19bc201-ee74-4d82-f2a6-ae72ee84ba4f"
      },
      "source": [
        "df['open']"
      ],
      "execution_count": 20,
      "outputs": [
        {
          "output_type": "execute_result",
          "data": {
            "text/plain": [
              "Date\n",
              "2020-05-07    2374.78\n",
              "2020-05-06    2329.44\n",
              "2020-05-05    2340.00\n",
              "2020-05-04    2256.38\n",
              "2020-05-01    2336.80\n",
              "2020-04-30    2419.84\n",
              "2020-04-29    2330.01\n",
              "2020-04-28    2372.10\n",
              "2020-04-27    2443.20\n",
              "2020-04-24    2417.00\n",
              "Name: open, dtype: float64"
            ]
          },
          "metadata": {
            "tags": []
          },
          "execution_count": 20
        }
      ]
    },
    {
      "cell_type": "code",
      "metadata": {
        "id": "h7nTFaf1JBTg",
        "colab_type": "code",
        "colab": {
          "base_uri": "https://localhost:8080/",
          "height": 221
        },
        "outputId": "d01cb29a-b83a-480d-de6f-e31e06073b2a"
      },
      "source": [
        "df.open"
      ],
      "execution_count": 21,
      "outputs": [
        {
          "output_type": "execute_result",
          "data": {
            "text/plain": [
              "Date\n",
              "2020-05-07    2374.78\n",
              "2020-05-06    2329.44\n",
              "2020-05-05    2340.00\n",
              "2020-05-04    2256.38\n",
              "2020-05-01    2336.80\n",
              "2020-04-30    2419.84\n",
              "2020-04-29    2330.01\n",
              "2020-04-28    2372.10\n",
              "2020-04-27    2443.20\n",
              "2020-04-24    2417.00\n",
              "Name: open, dtype: float64"
            ]
          },
          "metadata": {
            "tags": []
          },
          "execution_count": 21
        }
      ]
    },
    {
      "cell_type": "code",
      "metadata": {
        "id": "qA8N7IXpJFAv",
        "colab_type": "code",
        "colab": {
          "base_uri": "https://localhost:8080/",
          "height": 390
        },
        "outputId": "6c1b19c4-7f49-4ff2-bbb4-5c60c7f41aa2"
      },
      "source": [
        "df[['open', 'close']]"
      ],
      "execution_count": 23,
      "outputs": [
        {
          "output_type": "execute_result",
          "data": {
            "text/html": [
              "<div>\n",
              "<style scoped>\n",
              "    .dataframe tbody tr th:only-of-type {\n",
              "        vertical-align: middle;\n",
              "    }\n",
              "\n",
              "    .dataframe tbody tr th {\n",
              "        vertical-align: top;\n",
              "    }\n",
              "\n",
              "    .dataframe thead th {\n",
              "        text-align: right;\n",
              "    }\n",
              "</style>\n",
              "<table border=\"1\" class=\"dataframe\">\n",
              "  <thead>\n",
              "    <tr style=\"text-align: right;\">\n",
              "      <th></th>\n",
              "      <th>open</th>\n",
              "      <th>close</th>\n",
              "    </tr>\n",
              "    <tr>\n",
              "      <th>Date</th>\n",
              "      <th></th>\n",
              "      <th></th>\n",
              "    </tr>\n",
              "  </thead>\n",
              "  <tbody>\n",
              "    <tr>\n",
              "      <th>2020-05-07</th>\n",
              "      <td>2374.78</td>\n",
              "      <td>2367.61</td>\n",
              "    </tr>\n",
              "    <tr>\n",
              "      <th>2020-05-06</th>\n",
              "      <td>2329.44</td>\n",
              "      <td>2351.26</td>\n",
              "    </tr>\n",
              "    <tr>\n",
              "      <th>2020-05-05</th>\n",
              "      <td>2340.00</td>\n",
              "      <td>2317.80</td>\n",
              "    </tr>\n",
              "    <tr>\n",
              "      <th>2020-05-04</th>\n",
              "      <td>2256.38</td>\n",
              "      <td>2315.99</td>\n",
              "    </tr>\n",
              "    <tr>\n",
              "      <th>2020-05-01</th>\n",
              "      <td>2336.80</td>\n",
              "      <td>2286.04</td>\n",
              "    </tr>\n",
              "    <tr>\n",
              "      <th>2020-04-30</th>\n",
              "      <td>2419.84</td>\n",
              "      <td>2474.00</td>\n",
              "    </tr>\n",
              "    <tr>\n",
              "      <th>2020-04-29</th>\n",
              "      <td>2330.01</td>\n",
              "      <td>2372.71</td>\n",
              "    </tr>\n",
              "    <tr>\n",
              "      <th>2020-04-28</th>\n",
              "      <td>2372.10</td>\n",
              "      <td>2314.08</td>\n",
              "    </tr>\n",
              "    <tr>\n",
              "      <th>2020-04-27</th>\n",
              "      <td>2443.20</td>\n",
              "      <td>2376.00</td>\n",
              "    </tr>\n",
              "    <tr>\n",
              "      <th>2020-04-24</th>\n",
              "      <td>2417.00</td>\n",
              "      <td>2410.22</td>\n",
              "    </tr>\n",
              "  </tbody>\n",
              "</table>\n",
              "</div>"
            ],
            "text/plain": [
              "               open    close\n",
              "Date                        \n",
              "2020-05-07  2374.78  2367.61\n",
              "2020-05-06  2329.44  2351.26\n",
              "2020-05-05  2340.00  2317.80\n",
              "2020-05-04  2256.38  2315.99\n",
              "2020-05-01  2336.80  2286.04\n",
              "2020-04-30  2419.84  2474.00\n",
              "2020-04-29  2330.01  2372.71\n",
              "2020-04-28  2372.10  2314.08\n",
              "2020-04-27  2443.20  2376.00\n",
              "2020-04-24  2417.00  2410.22"
            ]
          },
          "metadata": {
            "tags": []
          },
          "execution_count": 23
        }
      ]
    },
    {
      "cell_type": "code",
      "metadata": {
        "id": "Nv_7eRVSJHQz",
        "colab_type": "code",
        "colab": {
          "base_uri": "https://localhost:8080/",
          "height": 221
        },
        "outputId": "53b274b6-9c7e-4d02-ddfa-f8eddc5c32ce"
      },
      "source": [
        "df.iloc[:, 0]"
      ],
      "execution_count": 25,
      "outputs": [
        {
          "output_type": "execute_result",
          "data": {
            "text/plain": [
              "Date\n",
              "2020-05-07    2374.78\n",
              "2020-05-06    2329.44\n",
              "2020-05-05    2340.00\n",
              "2020-05-04    2256.38\n",
              "2020-05-01    2336.80\n",
              "2020-04-30    2419.84\n",
              "2020-04-29    2330.01\n",
              "2020-04-28    2372.10\n",
              "2020-04-27    2443.20\n",
              "2020-04-24    2417.00\n",
              "Name: open, dtype: float64"
            ]
          },
          "metadata": {
            "tags": []
          },
          "execution_count": 25
        }
      ]
    },
    {
      "cell_type": "code",
      "metadata": {
        "id": "AgCk9A96JYEn",
        "colab_type": "code",
        "colab": {
          "base_uri": "https://localhost:8080/",
          "height": 390
        },
        "outputId": "c72e6abc-8196-4d4f-daf8-91b2e58e3b8a"
      },
      "source": [
        "df.iloc[:, [0,3]]"
      ],
      "execution_count": 26,
      "outputs": [
        {
          "output_type": "execute_result",
          "data": {
            "text/html": [
              "<div>\n",
              "<style scoped>\n",
              "    .dataframe tbody tr th:only-of-type {\n",
              "        vertical-align: middle;\n",
              "    }\n",
              "\n",
              "    .dataframe tbody tr th {\n",
              "        vertical-align: top;\n",
              "    }\n",
              "\n",
              "    .dataframe thead th {\n",
              "        text-align: right;\n",
              "    }\n",
              "</style>\n",
              "<table border=\"1\" class=\"dataframe\">\n",
              "  <thead>\n",
              "    <tr style=\"text-align: right;\">\n",
              "      <th></th>\n",
              "      <th>open</th>\n",
              "      <th>close</th>\n",
              "    </tr>\n",
              "    <tr>\n",
              "      <th>Date</th>\n",
              "      <th></th>\n",
              "      <th></th>\n",
              "    </tr>\n",
              "  </thead>\n",
              "  <tbody>\n",
              "    <tr>\n",
              "      <th>2020-05-07</th>\n",
              "      <td>2374.78</td>\n",
              "      <td>2367.61</td>\n",
              "    </tr>\n",
              "    <tr>\n",
              "      <th>2020-05-06</th>\n",
              "      <td>2329.44</td>\n",
              "      <td>2351.26</td>\n",
              "    </tr>\n",
              "    <tr>\n",
              "      <th>2020-05-05</th>\n",
              "      <td>2340.00</td>\n",
              "      <td>2317.80</td>\n",
              "    </tr>\n",
              "    <tr>\n",
              "      <th>2020-05-04</th>\n",
              "      <td>2256.38</td>\n",
              "      <td>2315.99</td>\n",
              "    </tr>\n",
              "    <tr>\n",
              "      <th>2020-05-01</th>\n",
              "      <td>2336.80</td>\n",
              "      <td>2286.04</td>\n",
              "    </tr>\n",
              "    <tr>\n",
              "      <th>2020-04-30</th>\n",
              "      <td>2419.84</td>\n",
              "      <td>2474.00</td>\n",
              "    </tr>\n",
              "    <tr>\n",
              "      <th>2020-04-29</th>\n",
              "      <td>2330.01</td>\n",
              "      <td>2372.71</td>\n",
              "    </tr>\n",
              "    <tr>\n",
              "      <th>2020-04-28</th>\n",
              "      <td>2372.10</td>\n",
              "      <td>2314.08</td>\n",
              "    </tr>\n",
              "    <tr>\n",
              "      <th>2020-04-27</th>\n",
              "      <td>2443.20</td>\n",
              "      <td>2376.00</td>\n",
              "    </tr>\n",
              "    <tr>\n",
              "      <th>2020-04-24</th>\n",
              "      <td>2417.00</td>\n",
              "      <td>2410.22</td>\n",
              "    </tr>\n",
              "  </tbody>\n",
              "</table>\n",
              "</div>"
            ],
            "text/plain": [
              "               open    close\n",
              "Date                        \n",
              "2020-05-07  2374.78  2367.61\n",
              "2020-05-06  2329.44  2351.26\n",
              "2020-05-05  2340.00  2317.80\n",
              "2020-05-04  2256.38  2315.99\n",
              "2020-05-01  2336.80  2286.04\n",
              "2020-04-30  2419.84  2474.00\n",
              "2020-04-29  2330.01  2372.71\n",
              "2020-04-28  2372.10  2314.08\n",
              "2020-04-27  2443.20  2376.00\n",
              "2020-04-24  2417.00  2410.22"
            ]
          },
          "metadata": {
            "tags": []
          },
          "execution_count": 26
        }
      ]
    },
    {
      "cell_type": "code",
      "metadata": {
        "id": "oH1lwVoGJeZK",
        "colab_type": "code",
        "colab": {
          "base_uri": "https://localhost:8080/",
          "height": 390
        },
        "outputId": "54803a84-001e-467c-af61-f3c5a86da6be"
      },
      "source": [
        "df.iloc[:, 3:5]"
      ],
      "execution_count": 27,
      "outputs": [
        {
          "output_type": "execute_result",
          "data": {
            "text/html": [
              "<div>\n",
              "<style scoped>\n",
              "    .dataframe tbody tr th:only-of-type {\n",
              "        vertical-align: middle;\n",
              "    }\n",
              "\n",
              "    .dataframe tbody tr th {\n",
              "        vertical-align: top;\n",
              "    }\n",
              "\n",
              "    .dataframe thead th {\n",
              "        text-align: right;\n",
              "    }\n",
              "</style>\n",
              "<table border=\"1\" class=\"dataframe\">\n",
              "  <thead>\n",
              "    <tr style=\"text-align: right;\">\n",
              "      <th></th>\n",
              "      <th>close</th>\n",
              "      <th>volume</th>\n",
              "    </tr>\n",
              "    <tr>\n",
              "      <th>Date</th>\n",
              "      <th></th>\n",
              "      <th></th>\n",
              "    </tr>\n",
              "  </thead>\n",
              "  <tbody>\n",
              "    <tr>\n",
              "      <th>2020-05-07</th>\n",
              "      <td>2367.61</td>\n",
              "      <td>3396411</td>\n",
              "    </tr>\n",
              "    <tr>\n",
              "      <th>2020-05-06</th>\n",
              "      <td>2351.26</td>\n",
              "      <td>3117814</td>\n",
              "    </tr>\n",
              "    <tr>\n",
              "      <th>2020-05-05</th>\n",
              "      <td>2317.80</td>\n",
              "      <td>3242496</td>\n",
              "    </tr>\n",
              "    <tr>\n",
              "      <th>2020-05-04</th>\n",
              "      <td>2315.99</td>\n",
              "      <td>4865926</td>\n",
              "    </tr>\n",
              "    <tr>\n",
              "      <th>2020-05-01</th>\n",
              "      <td>2286.04</td>\n",
              "      <td>9772605</td>\n",
              "    </tr>\n",
              "    <tr>\n",
              "      <th>2020-04-30</th>\n",
              "      <td>2474.00</td>\n",
              "      <td>9534611</td>\n",
              "    </tr>\n",
              "    <tr>\n",
              "      <th>2020-04-29</th>\n",
              "      <td>2372.71</td>\n",
              "      <td>4591593</td>\n",
              "    </tr>\n",
              "    <tr>\n",
              "      <th>2020-04-28</th>\n",
              "      <td>2314.08</td>\n",
              "      <td>5269446</td>\n",
              "    </tr>\n",
              "    <tr>\n",
              "      <th>2020-04-27</th>\n",
              "      <td>2376.00</td>\n",
              "      <td>5645645</td>\n",
              "    </tr>\n",
              "    <tr>\n",
              "      <th>2020-04-24</th>\n",
              "      <td>2410.22</td>\n",
              "      <td>3831797</td>\n",
              "    </tr>\n",
              "  </tbody>\n",
              "</table>\n",
              "</div>"
            ],
            "text/plain": [
              "              close   volume\n",
              "Date                        \n",
              "2020-05-07  2367.61  3396411\n",
              "2020-05-06  2351.26  3117814\n",
              "2020-05-05  2317.80  3242496\n",
              "2020-05-04  2315.99  4865926\n",
              "2020-05-01  2286.04  9772605\n",
              "2020-04-30  2474.00  9534611\n",
              "2020-04-29  2372.71  4591593\n",
              "2020-04-28  2314.08  5269446\n",
              "2020-04-27  2376.00  5645645\n",
              "2020-04-24  2410.22  3831797"
            ]
          },
          "metadata": {
            "tags": []
          },
          "execution_count": 27
        }
      ]
    },
    {
      "cell_type": "code",
      "metadata": {
        "id": "gPacX9i6Jp3m",
        "colab_type": "code",
        "colab": {
          "base_uri": "https://localhost:8080/",
          "height": 221
        },
        "outputId": "15e71087-0c8a-4424-8ab3-1a0c7cfdd7a4"
      },
      "source": [
        "df.iloc[:, -1]"
      ],
      "execution_count": 28,
      "outputs": [
        {
          "output_type": "execute_result",
          "data": {
            "text/plain": [
              "Date\n",
              "2020-05-07    3396411\n",
              "2020-05-06    3117814\n",
              "2020-05-05    3242496\n",
              "2020-05-04    4865926\n",
              "2020-05-01    9772605\n",
              "2020-04-30    9534611\n",
              "2020-04-29    4591593\n",
              "2020-04-28    5269446\n",
              "2020-04-27    5645645\n",
              "2020-04-24    3831797\n",
              "Name: volume, dtype: int64"
            ]
          },
          "metadata": {
            "tags": []
          },
          "execution_count": 28
        }
      ]
    },
    {
      "cell_type": "code",
      "metadata": {
        "id": "b3lghX9oJygM",
        "colab_type": "code",
        "colab": {
          "base_uri": "https://localhost:8080/",
          "height": 390
        },
        "outputId": "3073f234-b14c-46f1-f0f6-ae9f442e1c24"
      },
      "source": [
        "df.iloc[:, [-1]]"
      ],
      "execution_count": 29,
      "outputs": [
        {
          "output_type": "execute_result",
          "data": {
            "text/html": [
              "<div>\n",
              "<style scoped>\n",
              "    .dataframe tbody tr th:only-of-type {\n",
              "        vertical-align: middle;\n",
              "    }\n",
              "\n",
              "    .dataframe tbody tr th {\n",
              "        vertical-align: top;\n",
              "    }\n",
              "\n",
              "    .dataframe thead th {\n",
              "        text-align: right;\n",
              "    }\n",
              "</style>\n",
              "<table border=\"1\" class=\"dataframe\">\n",
              "  <thead>\n",
              "    <tr style=\"text-align: right;\">\n",
              "      <th></th>\n",
              "      <th>volume</th>\n",
              "    </tr>\n",
              "    <tr>\n",
              "      <th>Date</th>\n",
              "      <th></th>\n",
              "    </tr>\n",
              "  </thead>\n",
              "  <tbody>\n",
              "    <tr>\n",
              "      <th>2020-05-07</th>\n",
              "      <td>3396411</td>\n",
              "    </tr>\n",
              "    <tr>\n",
              "      <th>2020-05-06</th>\n",
              "      <td>3117814</td>\n",
              "    </tr>\n",
              "    <tr>\n",
              "      <th>2020-05-05</th>\n",
              "      <td>3242496</td>\n",
              "    </tr>\n",
              "    <tr>\n",
              "      <th>2020-05-04</th>\n",
              "      <td>4865926</td>\n",
              "    </tr>\n",
              "    <tr>\n",
              "      <th>2020-05-01</th>\n",
              "      <td>9772605</td>\n",
              "    </tr>\n",
              "    <tr>\n",
              "      <th>2020-04-30</th>\n",
              "      <td>9534611</td>\n",
              "    </tr>\n",
              "    <tr>\n",
              "      <th>2020-04-29</th>\n",
              "      <td>4591593</td>\n",
              "    </tr>\n",
              "    <tr>\n",
              "      <th>2020-04-28</th>\n",
              "      <td>5269446</td>\n",
              "    </tr>\n",
              "    <tr>\n",
              "      <th>2020-04-27</th>\n",
              "      <td>5645645</td>\n",
              "    </tr>\n",
              "    <tr>\n",
              "      <th>2020-04-24</th>\n",
              "      <td>3831797</td>\n",
              "    </tr>\n",
              "  </tbody>\n",
              "</table>\n",
              "</div>"
            ],
            "text/plain": [
              "             volume\n",
              "Date               \n",
              "2020-05-07  3396411\n",
              "2020-05-06  3117814\n",
              "2020-05-05  3242496\n",
              "2020-05-04  4865926\n",
              "2020-05-01  9772605\n",
              "2020-04-30  9534611\n",
              "2020-04-29  4591593\n",
              "2020-04-28  5269446\n",
              "2020-04-27  5645645\n",
              "2020-04-24  3831797"
            ]
          },
          "metadata": {
            "tags": []
          },
          "execution_count": 29
        }
      ]
    },
    {
      "cell_type": "code",
      "metadata": {
        "id": "oH4OyEIIJ5sS",
        "colab_type": "code",
        "colab": {
          "base_uri": "https://localhost:8080/",
          "height": 390
        },
        "outputId": "fa307b5f-7109-4a08-ac0f-5d3d20f2d22b"
      },
      "source": [
        "df.iloc[:, -2:]"
      ],
      "execution_count": 31,
      "outputs": [
        {
          "output_type": "execute_result",
          "data": {
            "text/html": [
              "<div>\n",
              "<style scoped>\n",
              "    .dataframe tbody tr th:only-of-type {\n",
              "        vertical-align: middle;\n",
              "    }\n",
              "\n",
              "    .dataframe tbody tr th {\n",
              "        vertical-align: top;\n",
              "    }\n",
              "\n",
              "    .dataframe thead th {\n",
              "        text-align: right;\n",
              "    }\n",
              "</style>\n",
              "<table border=\"1\" class=\"dataframe\">\n",
              "  <thead>\n",
              "    <tr style=\"text-align: right;\">\n",
              "      <th></th>\n",
              "      <th>close</th>\n",
              "      <th>volume</th>\n",
              "    </tr>\n",
              "    <tr>\n",
              "      <th>Date</th>\n",
              "      <th></th>\n",
              "      <th></th>\n",
              "    </tr>\n",
              "  </thead>\n",
              "  <tbody>\n",
              "    <tr>\n",
              "      <th>2020-05-07</th>\n",
              "      <td>2367.61</td>\n",
              "      <td>3396411</td>\n",
              "    </tr>\n",
              "    <tr>\n",
              "      <th>2020-05-06</th>\n",
              "      <td>2351.26</td>\n",
              "      <td>3117814</td>\n",
              "    </tr>\n",
              "    <tr>\n",
              "      <th>2020-05-05</th>\n",
              "      <td>2317.80</td>\n",
              "      <td>3242496</td>\n",
              "    </tr>\n",
              "    <tr>\n",
              "      <th>2020-05-04</th>\n",
              "      <td>2315.99</td>\n",
              "      <td>4865926</td>\n",
              "    </tr>\n",
              "    <tr>\n",
              "      <th>2020-05-01</th>\n",
              "      <td>2286.04</td>\n",
              "      <td>9772605</td>\n",
              "    </tr>\n",
              "    <tr>\n",
              "      <th>2020-04-30</th>\n",
              "      <td>2474.00</td>\n",
              "      <td>9534611</td>\n",
              "    </tr>\n",
              "    <tr>\n",
              "      <th>2020-04-29</th>\n",
              "      <td>2372.71</td>\n",
              "      <td>4591593</td>\n",
              "    </tr>\n",
              "    <tr>\n",
              "      <th>2020-04-28</th>\n",
              "      <td>2314.08</td>\n",
              "      <td>5269446</td>\n",
              "    </tr>\n",
              "    <tr>\n",
              "      <th>2020-04-27</th>\n",
              "      <td>2376.00</td>\n",
              "      <td>5645645</td>\n",
              "    </tr>\n",
              "    <tr>\n",
              "      <th>2020-04-24</th>\n",
              "      <td>2410.22</td>\n",
              "      <td>3831797</td>\n",
              "    </tr>\n",
              "  </tbody>\n",
              "</table>\n",
              "</div>"
            ],
            "text/plain": [
              "              close   volume\n",
              "Date                        \n",
              "2020-05-07  2367.61  3396411\n",
              "2020-05-06  2351.26  3117814\n",
              "2020-05-05  2317.80  3242496\n",
              "2020-05-04  2315.99  4865926\n",
              "2020-05-01  2286.04  9772605\n",
              "2020-04-30  2474.00  9534611\n",
              "2020-04-29  2372.71  4591593\n",
              "2020-04-28  2314.08  5269446\n",
              "2020-04-27  2376.00  5645645\n",
              "2020-04-24  2410.22  3831797"
            ]
          },
          "metadata": {
            "tags": []
          },
          "execution_count": 31
        }
      ]
    },
    {
      "cell_type": "markdown",
      "metadata": {
        "id": "vWIvjYqCKIzr",
        "colab_type": "text"
      },
      "source": [
        "SELEKCJA WIERSZY"
      ]
    },
    {
      "cell_type": "code",
      "metadata": {
        "id": "GHFHPen8J_ed",
        "colab_type": "code",
        "colab": {
          "base_uri": "https://localhost:8080/",
          "height": 119
        },
        "outputId": "f71e5793-de39-4c6a-9c11-67e81e0ee13f"
      },
      "source": [
        "df.iloc[0]"
      ],
      "execution_count": 32,
      "outputs": [
        {
          "output_type": "execute_result",
          "data": {
            "text/plain": [
              "open         2374.78\n",
              "high         2376.00\n",
              "low          2343.11\n",
              "close        2367.61\n",
              "volume    3396411.00\n",
              "Name: 2020-05-07 00:00:00, dtype: float64"
            ]
          },
          "metadata": {
            "tags": []
          },
          "execution_count": 32
        }
      ]
    },
    {
      "cell_type": "code",
      "metadata": {
        "id": "cSaNabSKKRMG",
        "colab_type": "code",
        "colab": {
          "base_uri": "https://localhost:8080/",
          "height": 173
        },
        "outputId": "8ebf7c81-c8c6-44ff-a3ce-20aea3c3afc9"
      },
      "source": [
        "df.iloc[:3]"
      ],
      "execution_count": 33,
      "outputs": [
        {
          "output_type": "execute_result",
          "data": {
            "text/html": [
              "<div>\n",
              "<style scoped>\n",
              "    .dataframe tbody tr th:only-of-type {\n",
              "        vertical-align: middle;\n",
              "    }\n",
              "\n",
              "    .dataframe tbody tr th {\n",
              "        vertical-align: top;\n",
              "    }\n",
              "\n",
              "    .dataframe thead th {\n",
              "        text-align: right;\n",
              "    }\n",
              "</style>\n",
              "<table border=\"1\" class=\"dataframe\">\n",
              "  <thead>\n",
              "    <tr style=\"text-align: right;\">\n",
              "      <th></th>\n",
              "      <th>open</th>\n",
              "      <th>high</th>\n",
              "      <th>low</th>\n",
              "      <th>close</th>\n",
              "      <th>volume</th>\n",
              "    </tr>\n",
              "    <tr>\n",
              "      <th>Date</th>\n",
              "      <th></th>\n",
              "      <th></th>\n",
              "      <th></th>\n",
              "      <th></th>\n",
              "      <th></th>\n",
              "    </tr>\n",
              "  </thead>\n",
              "  <tbody>\n",
              "    <tr>\n",
              "      <th>2020-05-07</th>\n",
              "      <td>2374.78</td>\n",
              "      <td>2376.00</td>\n",
              "      <td>2343.1100</td>\n",
              "      <td>2367.61</td>\n",
              "      <td>3396411</td>\n",
              "    </tr>\n",
              "    <tr>\n",
              "      <th>2020-05-06</th>\n",
              "      <td>2329.44</td>\n",
              "      <td>2357.45</td>\n",
              "      <td>2320.0000</td>\n",
              "      <td>2351.26</td>\n",
              "      <td>3117814</td>\n",
              "    </tr>\n",
              "    <tr>\n",
              "      <th>2020-05-05</th>\n",
              "      <td>2340.00</td>\n",
              "      <td>2351.00</td>\n",
              "      <td>2307.1251</td>\n",
              "      <td>2317.80</td>\n",
              "      <td>3242496</td>\n",
              "    </tr>\n",
              "  </tbody>\n",
              "</table>\n",
              "</div>"
            ],
            "text/plain": [
              "               open     high        low    close   volume\n",
              "Date                                                     \n",
              "2020-05-07  2374.78  2376.00  2343.1100  2367.61  3396411\n",
              "2020-05-06  2329.44  2357.45  2320.0000  2351.26  3117814\n",
              "2020-05-05  2340.00  2351.00  2307.1251  2317.80  3242496"
            ]
          },
          "metadata": {
            "tags": []
          },
          "execution_count": 33
        }
      ]
    },
    {
      "cell_type": "code",
      "metadata": {
        "id": "TtbmZSVQKW7C",
        "colab_type": "code",
        "colab": {
          "base_uri": "https://localhost:8080/",
          "height": 111
        },
        "outputId": "91be9644-4250-48d1-bc62-e3e86fad780d"
      },
      "source": [
        "df.loc['2020-05-07']"
      ],
      "execution_count": 34,
      "outputs": [
        {
          "output_type": "execute_result",
          "data": {
            "text/html": [
              "<div>\n",
              "<style scoped>\n",
              "    .dataframe tbody tr th:only-of-type {\n",
              "        vertical-align: middle;\n",
              "    }\n",
              "\n",
              "    .dataframe tbody tr th {\n",
              "        vertical-align: top;\n",
              "    }\n",
              "\n",
              "    .dataframe thead th {\n",
              "        text-align: right;\n",
              "    }\n",
              "</style>\n",
              "<table border=\"1\" class=\"dataframe\">\n",
              "  <thead>\n",
              "    <tr style=\"text-align: right;\">\n",
              "      <th></th>\n",
              "      <th>open</th>\n",
              "      <th>high</th>\n",
              "      <th>low</th>\n",
              "      <th>close</th>\n",
              "      <th>volume</th>\n",
              "    </tr>\n",
              "    <tr>\n",
              "      <th>Date</th>\n",
              "      <th></th>\n",
              "      <th></th>\n",
              "      <th></th>\n",
              "      <th></th>\n",
              "      <th></th>\n",
              "    </tr>\n",
              "  </thead>\n",
              "  <tbody>\n",
              "    <tr>\n",
              "      <th>2020-05-07</th>\n",
              "      <td>2374.78</td>\n",
              "      <td>2376.0</td>\n",
              "      <td>2343.11</td>\n",
              "      <td>2367.61</td>\n",
              "      <td>3396411</td>\n",
              "    </tr>\n",
              "  </tbody>\n",
              "</table>\n",
              "</div>"
            ],
            "text/plain": [
              "               open    high      low    close   volume\n",
              "Date                                                  \n",
              "2020-05-07  2374.78  2376.0  2343.11  2367.61  3396411"
            ]
          },
          "metadata": {
            "tags": []
          },
          "execution_count": 34
        }
      ]
    },
    {
      "cell_type": "code",
      "metadata": {
        "id": "9a6QxtspKijE",
        "colab_type": "code",
        "colab": {
          "base_uri": "https://localhost:8080/",
          "height": 235
        },
        "outputId": "1693ef02-a646-4fa5-caba-0fd2ebb260fe"
      },
      "source": [
        "df.loc['2020-05-07': '2020-05-01']"
      ],
      "execution_count": 35,
      "outputs": [
        {
          "output_type": "execute_result",
          "data": {
            "text/html": [
              "<div>\n",
              "<style scoped>\n",
              "    .dataframe tbody tr th:only-of-type {\n",
              "        vertical-align: middle;\n",
              "    }\n",
              "\n",
              "    .dataframe tbody tr th {\n",
              "        vertical-align: top;\n",
              "    }\n",
              "\n",
              "    .dataframe thead th {\n",
              "        text-align: right;\n",
              "    }\n",
              "</style>\n",
              "<table border=\"1\" class=\"dataframe\">\n",
              "  <thead>\n",
              "    <tr style=\"text-align: right;\">\n",
              "      <th></th>\n",
              "      <th>open</th>\n",
              "      <th>high</th>\n",
              "      <th>low</th>\n",
              "      <th>close</th>\n",
              "      <th>volume</th>\n",
              "    </tr>\n",
              "    <tr>\n",
              "      <th>Date</th>\n",
              "      <th></th>\n",
              "      <th></th>\n",
              "      <th></th>\n",
              "      <th></th>\n",
              "      <th></th>\n",
              "    </tr>\n",
              "  </thead>\n",
              "  <tbody>\n",
              "    <tr>\n",
              "      <th>2020-05-07</th>\n",
              "      <td>2374.78</td>\n",
              "      <td>2376.00</td>\n",
              "      <td>2343.1100</td>\n",
              "      <td>2367.61</td>\n",
              "      <td>3396411</td>\n",
              "    </tr>\n",
              "    <tr>\n",
              "      <th>2020-05-06</th>\n",
              "      <td>2329.44</td>\n",
              "      <td>2357.45</td>\n",
              "      <td>2320.0000</td>\n",
              "      <td>2351.26</td>\n",
              "      <td>3117814</td>\n",
              "    </tr>\n",
              "    <tr>\n",
              "      <th>2020-05-05</th>\n",
              "      <td>2340.00</td>\n",
              "      <td>2351.00</td>\n",
              "      <td>2307.1251</td>\n",
              "      <td>2317.80</td>\n",
              "      <td>3242496</td>\n",
              "    </tr>\n",
              "    <tr>\n",
              "      <th>2020-05-04</th>\n",
              "      <td>2256.38</td>\n",
              "      <td>2326.98</td>\n",
              "      <td>2256.3800</td>\n",
              "      <td>2315.99</td>\n",
              "      <td>4865926</td>\n",
              "    </tr>\n",
              "    <tr>\n",
              "      <th>2020-05-01</th>\n",
              "      <td>2336.80</td>\n",
              "      <td>2362.44</td>\n",
              "      <td>2258.1901</td>\n",
              "      <td>2286.04</td>\n",
              "      <td>9772605</td>\n",
              "    </tr>\n",
              "  </tbody>\n",
              "</table>\n",
              "</div>"
            ],
            "text/plain": [
              "               open     high        low    close   volume\n",
              "Date                                                     \n",
              "2020-05-07  2374.78  2376.00  2343.1100  2367.61  3396411\n",
              "2020-05-06  2329.44  2357.45  2320.0000  2351.26  3117814\n",
              "2020-05-05  2340.00  2351.00  2307.1251  2317.80  3242496\n",
              "2020-05-04  2256.38  2326.98  2256.3800  2315.99  4865926\n",
              "2020-05-01  2336.80  2362.44  2258.1901  2286.04  9772605"
            ]
          },
          "metadata": {
            "tags": []
          },
          "execution_count": 35
        }
      ]
    },
    {
      "cell_type": "markdown",
      "metadata": {
        "id": "Z86rMDrGK3bR",
        "colab_type": "text"
      },
      "source": [
        "OBLICZANIE NOWYCH KOLUMN"
      ]
    },
    {
      "cell_type": "code",
      "metadata": {
        "id": "njbJ68QSKv-c",
        "colab_type": "code",
        "colab": {
          "base_uri": "https://localhost:8080/",
          "height": 221
        },
        "outputId": "3fffb2c7-eb60-44f8-c6b7-9e36461e3a98"
      },
      "source": [
        "df = fetch_financial_data('UBER')\n",
        "df.info()"
      ],
      "execution_count": 37,
      "outputs": [
        {
          "output_type": "stream",
          "text": [
            "<class 'pandas.core.frame.DataFrame'>\n",
            "DatetimeIndex: 251 entries, 2020-05-07 to 2019-05-10\n",
            "Data columns (total 5 columns):\n",
            " #   Column  Non-Null Count  Dtype  \n",
            "---  ------  --------------  -----  \n",
            " 0   Open    251 non-null    float64\n",
            " 1   High    251 non-null    float64\n",
            " 2   Low     251 non-null    float64\n",
            " 3   Close   251 non-null    float64\n",
            " 4   Volume  251 non-null    int64  \n",
            "dtypes: float64(4), int64(1)\n",
            "memory usage: 11.8 KB\n"
          ],
          "name": "stdout"
        }
      ]
    },
    {
      "cell_type": "code",
      "metadata": {
        "id": "QnfcZO7mLANl",
        "colab_type": "code",
        "colab": {
          "base_uri": "https://localhost:8080/",
          "height": 235
        },
        "outputId": "e88be15e-52f3-48cc-89d0-056e7f4b640b"
      },
      "source": [
        "df.head()"
      ],
      "execution_count": 38,
      "outputs": [
        {
          "output_type": "execute_result",
          "data": {
            "text/html": [
              "<div>\n",
              "<style scoped>\n",
              "    .dataframe tbody tr th:only-of-type {\n",
              "        vertical-align: middle;\n",
              "    }\n",
              "\n",
              "    .dataframe tbody tr th {\n",
              "        vertical-align: top;\n",
              "    }\n",
              "\n",
              "    .dataframe thead th {\n",
              "        text-align: right;\n",
              "    }\n",
              "</style>\n",
              "<table border=\"1\" class=\"dataframe\">\n",
              "  <thead>\n",
              "    <tr style=\"text-align: right;\">\n",
              "      <th></th>\n",
              "      <th>Open</th>\n",
              "      <th>High</th>\n",
              "      <th>Low</th>\n",
              "      <th>Close</th>\n",
              "      <th>Volume</th>\n",
              "    </tr>\n",
              "    <tr>\n",
              "      <th>Date</th>\n",
              "      <th></th>\n",
              "      <th></th>\n",
              "      <th></th>\n",
              "      <th></th>\n",
              "      <th></th>\n",
              "    </tr>\n",
              "  </thead>\n",
              "  <tbody>\n",
              "    <tr>\n",
              "      <th>2020-05-07</th>\n",
              "      <td>29.60</td>\n",
              "      <td>31.6500</td>\n",
              "      <td>29.580</td>\n",
              "      <td>30.93</td>\n",
              "      <td>62229496</td>\n",
              "    </tr>\n",
              "    <tr>\n",
              "      <th>2020-05-06</th>\n",
              "      <td>27.50</td>\n",
              "      <td>28.0600</td>\n",
              "      <td>26.810</td>\n",
              "      <td>27.82</td>\n",
              "      <td>31076451</td>\n",
              "    </tr>\n",
              "    <tr>\n",
              "      <th>2020-05-05</th>\n",
              "      <td>28.25</td>\n",
              "      <td>28.9088</td>\n",
              "      <td>27.440</td>\n",
              "      <td>28.07</td>\n",
              "      <td>30725371</td>\n",
              "    </tr>\n",
              "    <tr>\n",
              "      <th>2020-05-04</th>\n",
              "      <td>27.56</td>\n",
              "      <td>28.0700</td>\n",
              "      <td>26.580</td>\n",
              "      <td>27.42</td>\n",
              "      <td>23428333</td>\n",
              "    </tr>\n",
              "    <tr>\n",
              "      <th>2020-05-01</th>\n",
              "      <td>29.13</td>\n",
              "      <td>29.7200</td>\n",
              "      <td>28.325</td>\n",
              "      <td>28.39</td>\n",
              "      <td>19290192</td>\n",
              "    </tr>\n",
              "  </tbody>\n",
              "</table>\n",
              "</div>"
            ],
            "text/plain": [
              "             Open     High     Low  Close    Volume\n",
              "Date                                               \n",
              "2020-05-07  29.60  31.6500  29.580  30.93  62229496\n",
              "2020-05-06  27.50  28.0600  26.810  27.82  31076451\n",
              "2020-05-05  28.25  28.9088  27.440  28.07  30725371\n",
              "2020-05-04  27.56  28.0700  26.580  27.42  23428333\n",
              "2020-05-01  29.13  29.7200  28.325  28.39  19290192"
            ]
          },
          "metadata": {
            "tags": []
          },
          "execution_count": 38
        }
      ]
    },
    {
      "cell_type": "code",
      "metadata": {
        "id": "2OFj-K3TLLUF",
        "colab_type": "code",
        "colab": {
          "base_uri": "https://localhost:8080/",
          "height": 235
        },
        "outputId": "37a76c5c-0a12-4b55-e26a-28ba0f560fdc"
      },
      "source": [
        "df.tail()"
      ],
      "execution_count": 39,
      "outputs": [
        {
          "output_type": "execute_result",
          "data": {
            "text/html": [
              "<div>\n",
              "<style scoped>\n",
              "    .dataframe tbody tr th:only-of-type {\n",
              "        vertical-align: middle;\n",
              "    }\n",
              "\n",
              "    .dataframe tbody tr th {\n",
              "        vertical-align: top;\n",
              "    }\n",
              "\n",
              "    .dataframe thead th {\n",
              "        text-align: right;\n",
              "    }\n",
              "</style>\n",
              "<table border=\"1\" class=\"dataframe\">\n",
              "  <thead>\n",
              "    <tr style=\"text-align: right;\">\n",
              "      <th></th>\n",
              "      <th>Open</th>\n",
              "      <th>High</th>\n",
              "      <th>Low</th>\n",
              "      <th>Close</th>\n",
              "      <th>Volume</th>\n",
              "    </tr>\n",
              "    <tr>\n",
              "      <th>Date</th>\n",
              "      <th></th>\n",
              "      <th></th>\n",
              "      <th></th>\n",
              "      <th></th>\n",
              "      <th></th>\n",
              "    </tr>\n",
              "  </thead>\n",
              "  <tbody>\n",
              "    <tr>\n",
              "      <th>2019-05-16</th>\n",
              "      <td>41.48</td>\n",
              "      <td>44.06</td>\n",
              "      <td>41.25</td>\n",
              "      <td>43.00</td>\n",
              "      <td>38115524</td>\n",
              "    </tr>\n",
              "    <tr>\n",
              "      <th>2019-05-15</th>\n",
              "      <td>39.37</td>\n",
              "      <td>41.88</td>\n",
              "      <td>38.95</td>\n",
              "      <td>41.29</td>\n",
              "      <td>36086065</td>\n",
              "    </tr>\n",
              "    <tr>\n",
              "      <th>2019-05-14</th>\n",
              "      <td>38.31</td>\n",
              "      <td>39.96</td>\n",
              "      <td>36.85</td>\n",
              "      <td>39.96</td>\n",
              "      <td>46661147</td>\n",
              "    </tr>\n",
              "    <tr>\n",
              "      <th>2019-05-13</th>\n",
              "      <td>38.79</td>\n",
              "      <td>39.24</td>\n",
              "      <td>36.08</td>\n",
              "      <td>37.10</td>\n",
              "      <td>79442420</td>\n",
              "    </tr>\n",
              "    <tr>\n",
              "      <th>2019-05-10</th>\n",
              "      <td>42.00</td>\n",
              "      <td>45.00</td>\n",
              "      <td>41.06</td>\n",
              "      <td>41.57</td>\n",
              "      <td>186322536</td>\n",
              "    </tr>\n",
              "  </tbody>\n",
              "</table>\n",
              "</div>"
            ],
            "text/plain": [
              "             Open   High    Low  Close     Volume\n",
              "Date                                             \n",
              "2019-05-16  41.48  44.06  41.25  43.00   38115524\n",
              "2019-05-15  39.37  41.88  38.95  41.29   36086065\n",
              "2019-05-14  38.31  39.96  36.85  39.96   46661147\n",
              "2019-05-13  38.79  39.24  36.08  37.10   79442420\n",
              "2019-05-10  42.00  45.00  41.06  41.57  186322536"
            ]
          },
          "metadata": {
            "tags": []
          },
          "execution_count": 39
        }
      ]
    },
    {
      "cell_type": "code",
      "metadata": {
        "id": "Kv_zc6RSLPMu",
        "colab_type": "code",
        "colab": {
          "base_uri": "https://localhost:8080/",
          "height": 204
        },
        "outputId": "d7a36d42-d532-4304-9f08-07f040941302"
      },
      "source": [
        "df.describe().T"
      ],
      "execution_count": 40,
      "outputs": [
        {
          "output_type": "execute_result",
          "data": {
            "text/html": [
              "<div>\n",
              "<style scoped>\n",
              "    .dataframe tbody tr th:only-of-type {\n",
              "        vertical-align: middle;\n",
              "    }\n",
              "\n",
              "    .dataframe tbody tr th {\n",
              "        vertical-align: top;\n",
              "    }\n",
              "\n",
              "    .dataframe thead th {\n",
              "        text-align: right;\n",
              "    }\n",
              "</style>\n",
              "<table border=\"1\" class=\"dataframe\">\n",
              "  <thead>\n",
              "    <tr style=\"text-align: right;\">\n",
              "      <th></th>\n",
              "      <th>count</th>\n",
              "      <th>mean</th>\n",
              "      <th>std</th>\n",
              "      <th>min</th>\n",
              "      <th>25%</th>\n",
              "      <th>50%</th>\n",
              "      <th>75%</th>\n",
              "      <th>max</th>\n",
              "    </tr>\n",
              "  </thead>\n",
              "  <tbody>\n",
              "    <tr>\n",
              "      <th>Open</th>\n",
              "      <td>251.0</td>\n",
              "      <td>3.412537e+01</td>\n",
              "      <td>6.446986e+00</td>\n",
              "      <td>15.96</td>\n",
              "      <td>29.120</td>\n",
              "      <td>33.00</td>\n",
              "      <td>4.016000e+01</td>\n",
              "      <td>4.698000e+01</td>\n",
              "    </tr>\n",
              "    <tr>\n",
              "      <th>High</th>\n",
              "      <td>251.0</td>\n",
              "      <td>3.482341e+01</td>\n",
              "      <td>6.360630e+00</td>\n",
              "      <td>17.80</td>\n",
              "      <td>29.670</td>\n",
              "      <td>33.74</td>\n",
              "      <td>4.094500e+01</td>\n",
              "      <td>4.708000e+01</td>\n",
              "    </tr>\n",
              "    <tr>\n",
              "      <th>Low</th>\n",
              "      <td>251.0</td>\n",
              "      <td>3.330200e+01</td>\n",
              "      <td>6.474637e+00</td>\n",
              "      <td>13.71</td>\n",
              "      <td>28.615</td>\n",
              "      <td>32.17</td>\n",
              "      <td>3.943000e+01</td>\n",
              "      <td>4.508000e+01</td>\n",
              "    </tr>\n",
              "    <tr>\n",
              "      <th>Close</th>\n",
              "      <td>251.0</td>\n",
              "      <td>3.408223e+01</td>\n",
              "      <td>6.379256e+00</td>\n",
              "      <td>14.82</td>\n",
              "      <td>29.130</td>\n",
              "      <td>33.00</td>\n",
              "      <td>4.013500e+01</td>\n",
              "      <td>4.638000e+01</td>\n",
              "    </tr>\n",
              "    <tr>\n",
              "      <th>Volume</th>\n",
              "      <td>251.0</td>\n",
              "      <td>2.502399e+07</td>\n",
              "      <td>2.190709e+07</td>\n",
              "      <td>3380003.00</td>\n",
              "      <td>8706365.000</td>\n",
              "      <td>20648859.00</td>\n",
              "      <td>3.439483e+07</td>\n",
              "      <td>1.863225e+08</td>\n",
              "    </tr>\n",
              "  </tbody>\n",
              "</table>\n",
              "</div>"
            ],
            "text/plain": [
              "        count          mean  ...           75%           max\n",
              "Open    251.0  3.412537e+01  ...  4.016000e+01  4.698000e+01\n",
              "High    251.0  3.482341e+01  ...  4.094500e+01  4.708000e+01\n",
              "Low     251.0  3.330200e+01  ...  3.943000e+01  4.508000e+01\n",
              "Close   251.0  3.408223e+01  ...  4.013500e+01  4.638000e+01\n",
              "Volume  251.0  2.502399e+07  ...  3.439483e+07  1.863225e+08\n",
              "\n",
              "[5 rows x 8 columns]"
            ]
          },
          "metadata": {
            "tags": []
          },
          "execution_count": 40
        }
      ]
    },
    {
      "cell_type": "code",
      "metadata": {
        "id": "ShENO5KnLUl2",
        "colab_type": "code",
        "colab": {}
      },
      "source": [
        ""
      ],
      "execution_count": 0,
      "outputs": []
    }
  ]
}