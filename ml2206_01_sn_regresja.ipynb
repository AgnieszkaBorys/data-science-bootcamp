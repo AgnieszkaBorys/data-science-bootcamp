{
  "nbformat": 4,
  "nbformat_minor": 0,
  "metadata": {
    "colab": {
      "name": "ml2206-01-sn-regresja.ipynb",
      "provenance": [],
      "collapsed_sections": [],
      "authorship_tag": "ABX9TyNMEKrdNxwOLG+VwrA9RQgP",
      "include_colab_link": true
    },
    "kernelspec": {
      "name": "python3",
      "display_name": "Python 3"
    }
  },
  "cells": [
    {
      "cell_type": "markdown",
      "metadata": {
        "id": "view-in-github",
        "colab_type": "text"
      },
      "source": [
        "<a href=\"https://colab.research.google.com/github/AgnieszkaBorys/data-science-bootcamp/blob/master/ml2206_01_sn_regresja.ipynb\" target=\"_parent\"><img src=\"https://colab.research.google.com/assets/colab-badge.svg\" alt=\"Open In Colab\"/></a>"
      ]
    },
    {
      "cell_type": "markdown",
      "metadata": {
        "id": "oqC__-sTHl8H",
        "colab_type": "text"
      },
      "source": [
        "WYkorzystamy sieć neuronową do problemu regresji liniowej. Zazwyczaj tak się nie robi bo to zbyt trywialny problem dla siecie nuronowych"
      ]
    },
    {
      "cell_type": "code",
      "metadata": {
        "id": "-_lYXAEaApFG",
        "colab_type": "code",
        "colab": {}
      },
      "source": [
        "url = 'http://hackingpython.pl/ML2206/Day04/f-c.csv'"
      ],
      "execution_count": null,
      "outputs": []
    },
    {
      "cell_type": "code",
      "metadata": {
        "id": "9XtUX9sSBAfd",
        "colab_type": "code",
        "colab": {}
      },
      "source": [
        "import pandas as pd\n",
        "import numpy as np"
      ],
      "execution_count": null,
      "outputs": []
    },
    {
      "cell_type": "code",
      "metadata": {
        "id": "3OTXcnEPBE53",
        "colab_type": "code",
        "colab": {}
      },
      "source": [
        "# komponenty do budowania sieci\n",
        "from tensorflow.keras.models import Sequential\n",
        "from tensorflow.keras.layers import Dense  #konstruktor klasy Dense dla warstwy gęstej"
      ],
      "execution_count": null,
      "outputs": []
    },
    {
      "cell_type": "code",
      "metadata": {
        "id": "bjkphcnLX4rI",
        "colab_type": "code",
        "colab": {}
      },
      "source": [
        "from tensorflow.random import set_seed\n",
        "set_seed(0)"
      ],
      "execution_count": null,
      "outputs": []
    },
    {
      "cell_type": "code",
      "metadata": {
        "id": "ZpP5pX87Bfhr",
        "colab_type": "code",
        "colab": {}
      },
      "source": [
        "# tworzenie sieci\n",
        "#inicjacja sieci neuronowej\n",
        "model = Sequential()  \n",
        "\n",
        "# dodajemy warstwy:\n",
        "# warstwa wejściowa - tutaj określamy ksztalt, czyli wymiary zmiennej X\n",
        "model.add( Dense(16, input_shape=[1], activation='linear') )   # pierwszy param to liczba neuronów, activation - funkcja aktywacji\n",
        "\n",
        "# warstwa ukryta -\n",
        "model.add( Dense(4, activation='linear') )\n",
        "\n",
        "# warstwa wyjściowa - podajemy tyle neuronów ile mamy kategorii odpowiedzi, dla regresji jest to 1 bo wynikiem (y) jest zmienna ciągła, dla rozpoznowania obrazow bedzie 10 tyle param obrazu\n",
        "model.add( Dense(1) )"
      ],
      "execution_count": null,
      "outputs": []
    },
    {
      "cell_type": "code",
      "metadata": {
        "id": "8Gz4L7IXBlIg",
        "colab_type": "code",
        "colab": {}
      },
      "source": [
        "# konpilacja sieci\n",
        "model.compile(optimizer='rmsprop', loss='mean_squared_error', metrics='mean_squared_error') \n",
        "             # optymalizator, czyli alg ktory dopasowuje wagi, \n",
        "             # loss - funkcja straty, opisuje stopien dopasowania y pred do y real\n",
        "             # metrics to dodatkowa metryka ktorą możemy obserwowac w procesie uczenia sie sieci, podawana w ouptpucie"
      ],
      "execution_count": null,
      "outputs": []
    },
    {
      "cell_type": "code",
      "metadata": {
        "id": "9DsvdRMGEPmq",
        "colab_type": "code",
        "colab": {
          "base_uri": "https://localhost:8080/",
          "height": 198
        },
        "outputId": "c92fc20d-f3eb-4a94-e020-ad86fcbc6bbb"
      },
      "source": [
        "df = pd.read_csv(url, usecols=[1, 2])\n",
        "df.head()"
      ],
      "execution_count": null,
      "outputs": [
        {
          "output_type": "execute_result",
          "data": {
            "text/html": [
              "<div>\n",
              "<style scoped>\n",
              "    .dataframe tbody tr th:only-of-type {\n",
              "        vertical-align: middle;\n",
              "    }\n",
              "\n",
              "    .dataframe tbody tr th {\n",
              "        vertical-align: top;\n",
              "    }\n",
              "\n",
              "    .dataframe thead th {\n",
              "        text-align: right;\n",
              "    }\n",
              "</style>\n",
              "<table border=\"1\" class=\"dataframe\">\n",
              "  <thead>\n",
              "    <tr style=\"text-align: right;\">\n",
              "      <th></th>\n",
              "      <th>F</th>\n",
              "      <th>C</th>\n",
              "    </tr>\n",
              "  </thead>\n",
              "  <tbody>\n",
              "    <tr>\n",
              "      <th>0</th>\n",
              "      <td>-140.0</td>\n",
              "      <td>-95.55</td>\n",
              "    </tr>\n",
              "    <tr>\n",
              "      <th>1</th>\n",
              "      <td>-136.0</td>\n",
              "      <td>-93.33</td>\n",
              "    </tr>\n",
              "    <tr>\n",
              "      <th>2</th>\n",
              "      <td>-124.0</td>\n",
              "      <td>-86.66</td>\n",
              "    </tr>\n",
              "    <tr>\n",
              "      <th>3</th>\n",
              "      <td>-112.0</td>\n",
              "      <td>-80.00</td>\n",
              "    </tr>\n",
              "    <tr>\n",
              "      <th>4</th>\n",
              "      <td>-105.0</td>\n",
              "      <td>-76.11</td>\n",
              "    </tr>\n",
              "  </tbody>\n",
              "</table>\n",
              "</div>"
            ],
            "text/plain": [
              "       F      C\n",
              "0 -140.0 -95.55\n",
              "1 -136.0 -93.33\n",
              "2 -124.0 -86.66\n",
              "3 -112.0 -80.00\n",
              "4 -105.0 -76.11"
            ]
          },
          "metadata": {
            "tags": []
          },
          "execution_count": 7
        }
      ]
    },
    {
      "cell_type": "code",
      "metadata": {
        "id": "Zvtzi0IqEXED",
        "colab_type": "code",
        "colab": {}
      },
      "source": [
        "import matplotlib.pyplot as plt"
      ],
      "execution_count": null,
      "outputs": []
    },
    {
      "cell_type": "code",
      "metadata": {
        "id": "B5Q3vyKQEleb",
        "colab_type": "code",
        "colab": {
          "base_uri": "https://localhost:8080/",
          "height": 265
        },
        "outputId": "878b6a2e-67d6-45e4-9f76-7dda955099db"
      },
      "source": [
        "_ = plt.scatter(df.F, df.C)"
      ],
      "execution_count": null,
      "outputs": [
        {
          "output_type": "display_data",
          "data": {
            "image/png": "[encoded data removed]",
            "text/plain": [
              "<Figure size 432x288 with 1 Axes>"
            ]
          },
          "metadata": {
            "tags": [],
            "needs_background": "light"
          }
        }
      ]
    },
    {
      "cell_type": "code",
      "metadata": {
        "id": "UCtuzSQtEo4M",
        "colab_type": "code",
        "colab": {}
      },
      "source": [
        "result = model.fit(df.F.values, df.C.values, epochs=5000, verbose=0)  \n",
        "                  # epochs - ilosc epok czyliprzebierow sieci, default = 1 \n",
        "                  # verbose=2  ile epok ma być wyswietlonych w otpucie, 0 znaczy brak wyniki w out, jak nie podamy to wyświetli info o kazdej epoce\n",
        "# Uwaga: jak puścimy model fit to nasz model bedzie juz 'nauczony'. Uruchomirenie ponowne da inny resultat. Trzeba zrobić restart.                  "
      ],
      "execution_count": null,
      "outputs": []
    },
    {
      "cell_type": "code",
      "metadata": {
        "id": "_RW87Y6FFLof",
        "colab_type": "code",
        "colab": {
          "base_uri": "https://localhost:8080/",
          "height": 35
        },
        "outputId": "d07068e5-9326-4b0f-f926-a62c143f1631"
      },
      "source": [
        "result.history.keys()"
      ],
      "execution_count": null,
      "outputs": [
        {
          "output_type": "execute_result",
          "data": {
            "text/plain": [
              "dict_keys(['loss', 'mean_squared_error'])"
            ]
          },
          "metadata": {
            "tags": []
          },
          "execution_count": 11
        }
      ]
    },
    {
      "cell_type": "code",
      "metadata": {
        "id": "YReRwbZ9GFDX",
        "colab_type": "code",
        "colab": {
          "base_uri": "https://localhost:8080/",
          "height": 198
        },
        "outputId": "503c76d0-de8b-4bb5-e890-70e7306e87b5"
      },
      "source": [
        "df_test = pd.DataFrame(result.history['loss'])\n",
        "df_test.tail()"
      ],
      "execution_count": null,
      "outputs": [
        {
          "output_type": "execute_result",
          "data": {
            "text/html": [
              "<div>\n",
              "<style scoped>\n",
              "    .dataframe tbody tr th:only-of-type {\n",
              "        vertical-align: middle;\n",
              "    }\n",
              "\n",
              "    .dataframe tbody tr th {\n",
              "        vertical-align: top;\n",
              "    }\n",
              "\n",
              "    .dataframe thead th {\n",
              "        text-align: right;\n",
              "    }\n",
              "</style>\n",
              "<table border=\"1\" class=\"dataframe\">\n",
              "  <thead>\n",
              "    <tr style=\"text-align: right;\">\n",
              "      <th></th>\n",
              "      <th>0</th>\n",
              "    </tr>\n",
              "  </thead>\n",
              "  <tbody>\n",
              "    <tr>\n",
              "      <th>4995</th>\n",
              "      <td>1.557190</td>\n",
              "    </tr>\n",
              "    <tr>\n",
              "      <th>4996</th>\n",
              "      <td>1.554402</td>\n",
              "    </tr>\n",
              "    <tr>\n",
              "      <th>4997</th>\n",
              "      <td>1.556962</td>\n",
              "    </tr>\n",
              "    <tr>\n",
              "      <th>4998</th>\n",
              "      <td>1.554148</td>\n",
              "    </tr>\n",
              "    <tr>\n",
              "      <th>4999</th>\n",
              "      <td>1.556686</td>\n",
              "    </tr>\n",
              "  </tbody>\n",
              "</table>\n",
              "</div>"
            ],
            "text/plain": [
              "             0\n",
              "4995  1.557190\n",
              "4996  1.554402\n",
              "4997  1.556962\n",
              "4998  1.554148\n",
              "4999  1.556686"
            ]
          },
          "metadata": {
            "tags": []
          },
          "execution_count": 12
        }
      ]
    },
    {
      "cell_type": "markdown",
      "metadata": {
        "id": "DAccDoh2IH5V",
        "colab_type": "text"
      },
      "source": [
        "Uwaga: za kazdym razem przebieg sieci jest inny bo poczatkowo wagi wybierane są losowo. Ważne że na koniec wynik powinien zbiegać do porządanego, czyli funkcja loss zbiega do 0. To oznacza że proces uczenia jest za kazdym razem inny zaś rezultt powienien być zbliżony."
      ]
    },
    {
      "cell_type": "code",
      "metadata": {
        "id": "MhNaVhOGGvxi",
        "colab_type": "code",
        "colab": {
          "base_uri": "https://localhost:8080/",
          "height": 283
        },
        "outputId": "240454f5-32b2-4a01-875b-db1c4d4f6182"
      },
      "source": [
        "df_test.plot()"
      ],
      "execution_count": null,
      "outputs": [
        {
          "output_type": "execute_result",
          "data": {
            "text/plain": [
              "<matplotlib.axes._subplots.AxesSubplot at 0x7f5a474f9860>"
            ]
          },
          "metadata": {
            "tags": []
          },
          "execution_count": 13
        },
        {
          "output_type": "display_data",
          "data": {
            "image/png": "[encoded data removed]",
            "text/plain": [
              "<Figure size 432x288 with 1 Axes>"
            ]
          },
          "metadata": {
            "tags": [],
            "needs_background": "light"
          }
        }
      ]
    },
    {
      "cell_type": "markdown",
      "metadata": {
        "id": "ABImK8HHZ2xM",
        "colab_type": "text"
      },
      "source": [
        "Sprawdzenie modelu na nowych danych"
      ]
    },
    {
      "cell_type": "code",
      "metadata": {
        "id": "6PevxuJGI93g",
        "colab_type": "code",
        "colab": {}
      },
      "source": [
        "x_check = np.arange(-150, 150)\n",
        "y_pred = model.predict(x_check)"
      ],
      "execution_count": null,
      "outputs": []
    },
    {
      "cell_type": "code",
      "metadata": {
        "id": "0d6l24raZoTJ",
        "colab_type": "code",
        "colab": {
          "base_uri": "https://localhost:8080/",
          "height": 283
        },
        "outputId": "38a88118-d701-4575-c62a-5f0a59fc40aa"
      },
      "source": [
        "plt.scatter(df.F, df.C)\n",
        "plt.plot(x_check, y_pred, c='r')"
      ],
      "execution_count": null,
      "outputs": [
        {
          "output_type": "execute_result",
          "data": {
            "text/plain": [
              "[<matplotlib.lines.Line2D at 0x7f5a47427f28>]"
            ]
          },
          "metadata": {
            "tags": []
          },
          "execution_count": 15
        },
        {
          "output_type": "display_data",
          "data": {
            "image/png": "[encoded data removed]",
            "text/plain": [
              "<Figure size 432x288 with 1 Axes>"
            ]
          },
          "metadata": {
            "tags": [],
            "needs_background": "light"
          }
        }
      ]
    },
    {
      "cell_type": "code",
      "metadata": {
        "id": "fVpwcBFkZzZP",
        "colab_type": "code",
        "colab": {}
      },
      "source": [
        "df = pd.read_csv('http://hackingpython.pl/ML2206/Day01/otodom.csv')\n",
        "df = df[df.Cena<800E3]"
      ],
      "execution_count": null,
      "outputs": []
    },
    {
      "cell_type": "code",
      "metadata": {
        "id": "tT4LCVoLaRPb",
        "colab_type": "code",
        "colab": {
          "base_uri": "https://localhost:8080/",
          "height": 198
        },
        "outputId": "959cb718-b572-4fd9-fed1-3b6cb06de0cb"
      },
      "source": [
        "df.head()"
      ],
      "execution_count": null,
      "outputs": [
        {
          "output_type": "execute_result",
          "data": {
            "text/html": [
              "<div>\n",
              "<style scoped>\n",
              "    .dataframe tbody tr th:only-of-type {\n",
              "        vertical-align: middle;\n",
              "    }\n",
              "\n",
              "    .dataframe tbody tr th {\n",
              "        vertical-align: top;\n",
              "    }\n",
              "\n",
              "    .dataframe thead th {\n",
              "        text-align: right;\n",
              "    }\n",
              "</style>\n",
              "<table border=\"1\" class=\"dataframe\">\n",
              "  <thead>\n",
              "    <tr style=\"text-align: right;\">\n",
              "      <th></th>\n",
              "      <th>ID</th>\n",
              "      <th>Cena</th>\n",
              "      <th>Liczba_Pięter</th>\n",
              "      <th>Liczba_Pokoi</th>\n",
              "      <th>Pietro</th>\n",
              "      <th>Powierzchnia</th>\n",
              "      <th>Rok_Budowy</th>\n",
              "    </tr>\n",
              "  </thead>\n",
              "  <tbody>\n",
              "    <tr>\n",
              "      <th>2</th>\n",
              "      <td>3Bdli</td>\n",
              "      <td>640659</td>\n",
              "      <td>4</td>\n",
              "      <td>3</td>\n",
              "      <td>2</td>\n",
              "      <td>64.13</td>\n",
              "      <td>2019</td>\n",
              "    </tr>\n",
              "    <tr>\n",
              "      <th>3</th>\n",
              "      <td>46q1p</td>\n",
              "      <td>410000</td>\n",
              "      <td>12</td>\n",
              "      <td>2</td>\n",
              "      <td>4</td>\n",
              "      <td>36.30</td>\n",
              "      <td>1975</td>\n",
              "    </tr>\n",
              "    <tr>\n",
              "      <th>4</th>\n",
              "      <td>468dI</td>\n",
              "      <td>415900</td>\n",
              "      <td>10</td>\n",
              "      <td>2</td>\n",
              "      <td>6</td>\n",
              "      <td>31.06</td>\n",
              "      <td>1974</td>\n",
              "    </tr>\n",
              "    <tr>\n",
              "      <th>5</th>\n",
              "      <td>46jEE</td>\n",
              "      <td>550000</td>\n",
              "      <td>4</td>\n",
              "      <td>3</td>\n",
              "      <td>3</td>\n",
              "      <td>51.00</td>\n",
              "      <td>1976</td>\n",
              "    </tr>\n",
              "    <tr>\n",
              "      <th>6</th>\n",
              "      <td>46oJo</td>\n",
              "      <td>444000</td>\n",
              "      <td>4</td>\n",
              "      <td>2</td>\n",
              "      <td>1</td>\n",
              "      <td>44.80</td>\n",
              "      <td>2003</td>\n",
              "    </tr>\n",
              "  </tbody>\n",
              "</table>\n",
              "</div>"
            ],
            "text/plain": [
              "      ID    Cena  Liczba_Pięter  Liczba_Pokoi  Pietro  Powierzchnia  Rok_Budowy\n",
              "2  3Bdli  640659              4             3       2         64.13        2019\n",
              "3  46q1p  410000             12             2       4         36.30        1975\n",
              "4  468dI  415900             10             2       6         31.06        1974\n",
              "5  46jEE  550000              4             3       3         51.00        1976\n",
              "6  46oJo  444000              4             2       1         44.80        2003"
            ]
          },
          "metadata": {
            "tags": []
          },
          "execution_count": 17
        }
      ]
    },
    {
      "cell_type": "code",
      "metadata": {
        "id": "UecBL-2ragLK",
        "colab_type": "code",
        "colab": {}
      },
      "source": [
        "from sklearn.model_selection import train_test_split"
      ],
      "execution_count": null,
      "outputs": []
    },
    {
      "cell_type": "code",
      "metadata": {
        "id": "igsdq8qpaqH7",
        "colab_type": "code",
        "colab": {}
      },
      "source": [
        "X = df.iloc[:, 2:]\n",
        "y = df.Cena\n",
        "\n",
        "X_train, X_test, y_train, y_test = train_test_split(X, y, test_size=0.2, random_state=0)\n"
      ],
      "execution_count": null,
      "outputs": []
    },
    {
      "cell_type": "code",
      "metadata": {
        "id": "ZJn4ALksbfQb",
        "colab_type": "code",
        "colab": {}
      },
      "source": [
        "# tworzenie sieci\n",
        "model = Sequential()  \n",
        "model.add( Dense(1204, input_shape=[5], activation='relu') )   # warstwa wejściowa \n",
        "model.add( Dense(258, activation='relu') ) # warstwa ukryta  nr 1\n",
        "model.add( Dense(128, activation='relu') )  # warstwa ukryta  nr 2\n",
        "model.add( Dense(1)) # warstwa wyjściowa "
      ],
      "execution_count": null,
      "outputs": []
    },
    {
      "cell_type": "code",
      "metadata": {
        "id": "Etfn7paacD6e",
        "colab_type": "code",
        "colab": {}
      },
      "source": [
        "model.compile(optimizer='rmsprop', loss='mse', metrics=['mae','mse'])"
      ],
      "execution_count": null,
      "outputs": []
    },
    {
      "cell_type": "code",
      "metadata": {
        "id": "omWBHVdAcPvW",
        "colab_type": "code",
        "colab": {}
      },
      "source": [
        "result = model.fit(X_train, y_train, epochs=150, verbose=0)"
      ],
      "execution_count": null,
      "outputs": []
    },
    {
      "cell_type": "code",
      "metadata": {
        "id": "zQVd3Iu4cXRD",
        "colab_type": "code",
        "colab": {
          "base_uri": "https://localhost:8080/",
          "height": 35
        },
        "outputId": "fdf5ec08-48eb-432e-959d-5638b6a30ee4"
      },
      "source": [
        "result.history.keys()"
      ],
      "execution_count": null,
      "outputs": [
        {
          "output_type": "execute_result",
          "data": {
            "text/plain": [
              "dict_keys(['loss', 'mae', 'mse'])"
            ]
          },
          "metadata": {
            "tags": []
          },
          "execution_count": 23
        }
      ]
    },
    {
      "cell_type": "code",
      "metadata": {
        "id": "obvhjAOpc14N",
        "colab_type": "code",
        "colab": {
          "base_uri": "https://localhost:8080/",
          "height": 283
        },
        "outputId": "7dee5f6b-a085-49c1-9eec-809a859f73fc"
      },
      "source": [
        "pd.DataFrame(result.history['mae']).plot()"
      ],
      "execution_count": null,
      "outputs": [
        {
          "output_type": "execute_result",
          "data": {
            "text/plain": [
              "<matplotlib.axes._subplots.AxesSubplot at 0x7f5a3ec1aeb8>"
            ]
          },
          "metadata": {
            "tags": []
          },
          "execution_count": 24
        },
        {
          "output_type": "display_data",
          "data": {
            "image/png": "[encoded data removed]",
            "text/plain": [
              "<Figure size 432x288 with 1 Axes>"
            ]
          },
          "metadata": {
            "tags": [],
            "needs_background": "light"
          }
        }
      ]
    },
    {
      "cell_type": "code",
      "metadata": {
        "id": "J8jBRILBdADy",
        "colab_type": "code",
        "colab": {}
      },
      "source": [
        "y_pred = model.predict(X_test)"
      ],
      "execution_count": null,
      "outputs": []
    },
    {
      "cell_type": "code",
      "metadata": {
        "id": "fEKxaqoXdhu2",
        "colab_type": "code",
        "colab": {
          "base_uri": "https://localhost:8080/",
          "height": 35
        },
        "outputId": "998adaef-4304-4f5e-e634-841f130d6aae"
      },
      "source": [
        "from sklearn.metrics import r2_score\n",
        "r2_score(y_test, y_pred)"
      ],
      "execution_count": null,
      "outputs": [
        {
          "output_type": "execute_result",
          "data": {
            "text/plain": [
              "0.3776562813119293"
            ]
          },
          "metadata": {
            "tags": []
          },
          "execution_count": 26
        }
      ]
    },
    {
      "cell_type": "code",
      "metadata": {
        "id": "VnJxgz8pdry5",
        "colab_type": "code",
        "colab": {}
      },
      "source": [
        ""
      ],
      "execution_count": null,
      "outputs": []
    }
  ]
}